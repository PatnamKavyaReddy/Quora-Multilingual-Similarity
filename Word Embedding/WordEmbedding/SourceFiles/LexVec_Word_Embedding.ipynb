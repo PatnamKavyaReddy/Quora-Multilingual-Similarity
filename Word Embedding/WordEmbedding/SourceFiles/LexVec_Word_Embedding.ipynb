{
 "cells": [
  {
   "cell_type": "code",
   "execution_count": 1,
   "metadata": {},
   "outputs": [],
   "source": [
    "import pandas as pd"
   ]
  },
  {
   "cell_type": "code",
   "execution_count": 177,
   "metadata": {},
   "outputs": [],
   "source": [
    "df = pd.read_csv('train.csv')"
   ]
  },
  {
   "cell_type": "code",
   "execution_count": 178,
   "metadata": {},
   "outputs": [
    {
     "data": {
      "text/html": [
       "<div>\n",
       "<style scoped>\n",
       "    .dataframe tbody tr th:only-of-type {\n",
       "        vertical-align: middle;\n",
       "    }\n",
       "\n",
       "    .dataframe tbody tr th {\n",
       "        vertical-align: top;\n",
       "    }\n",
       "\n",
       "    .dataframe thead th {\n",
       "        text-align: right;\n",
       "    }\n",
       "</style>\n",
       "<table border=\"1\" class=\"dataframe\">\n",
       "  <thead>\n",
       "    <tr style=\"text-align: right;\">\n",
       "      <th></th>\n",
       "      <th>id</th>\n",
       "      <th>premise</th>\n",
       "      <th>hypothesis</th>\n",
       "      <th>lang_abv</th>\n",
       "      <th>language</th>\n",
       "      <th>label</th>\n",
       "    </tr>\n",
       "  </thead>\n",
       "  <tbody>\n",
       "    <tr>\n",
       "      <th>0</th>\n",
       "      <td>5130fd2cb5</td>\n",
       "      <td>and these comments were considered in formulat...</td>\n",
       "      <td>The rules developed in the interim were put to...</td>\n",
       "      <td>en</td>\n",
       "      <td>English</td>\n",
       "      <td>0</td>\n",
       "    </tr>\n",
       "    <tr>\n",
       "      <th>1</th>\n",
       "      <td>5b72532a0b</td>\n",
       "      <td>These are issues that we wrestle with in pract...</td>\n",
       "      <td>Practice groups are not permitted to work on t...</td>\n",
       "      <td>en</td>\n",
       "      <td>English</td>\n",
       "      <td>2</td>\n",
       "    </tr>\n",
       "    <tr>\n",
       "      <th>2</th>\n",
       "      <td>3931fbe82a</td>\n",
       "      <td>Des petites choses comme celles-là font une di...</td>\n",
       "      <td>J'essayais d'accomplir quelque chose.</td>\n",
       "      <td>fr</td>\n",
       "      <td>French</td>\n",
       "      <td>0</td>\n",
       "    </tr>\n",
       "    <tr>\n",
       "      <th>3</th>\n",
       "      <td>5622f0c60b</td>\n",
       "      <td>you know they can't really defend themselves l...</td>\n",
       "      <td>They can't defend themselves because of their ...</td>\n",
       "      <td>en</td>\n",
       "      <td>English</td>\n",
       "      <td>0</td>\n",
       "    </tr>\n",
       "    <tr>\n",
       "      <th>4</th>\n",
       "      <td>86aaa48b45</td>\n",
       "      <td>ในการเล่นบทบาทสมมุติก็เช่นกัน โอกาสที่จะได้แสด...</td>\n",
       "      <td>เด็กสามารถเห็นได้ว่าชาติพันธุ์แตกต่างกันอย่างไร</td>\n",
       "      <td>th</td>\n",
       "      <td>Thai</td>\n",
       "      <td>1</td>\n",
       "    </tr>\n",
       "    <tr>\n",
       "      <th>...</th>\n",
       "      <td>...</td>\n",
       "      <td>...</td>\n",
       "      <td>...</td>\n",
       "      <td>...</td>\n",
       "      <td>...</td>\n",
       "      <td>...</td>\n",
       "    </tr>\n",
       "    <tr>\n",
       "      <th>12115</th>\n",
       "      <td>2b78e2a914</td>\n",
       "      <td>The results of even the most well designed epi...</td>\n",
       "      <td>All studies have the same amount of uncertaint...</td>\n",
       "      <td>en</td>\n",
       "      <td>English</td>\n",
       "      <td>2</td>\n",
       "    </tr>\n",
       "    <tr>\n",
       "      <th>12116</th>\n",
       "      <td>7e9943d152</td>\n",
       "      <td>But there are two kinds of  the pleasure of do...</td>\n",
       "      <td>But there are two kinds of the pleasure of doi...</td>\n",
       "      <td>en</td>\n",
       "      <td>English</td>\n",
       "      <td>0</td>\n",
       "    </tr>\n",
       "    <tr>\n",
       "      <th>12117</th>\n",
       "      <td>5085923e6c</td>\n",
       "      <td>The important thing is to realize that it's wa...</td>\n",
       "      <td>It cannot be moved, now or ever.</td>\n",
       "      <td>en</td>\n",
       "      <td>English</td>\n",
       "      <td>2</td>\n",
       "    </tr>\n",
       "    <tr>\n",
       "      <th>12118</th>\n",
       "      <td>fc8e2fd1fe</td>\n",
       "      <td>At the west end is a detailed model of the who...</td>\n",
       "      <td>The model temple complex is at the east end.</td>\n",
       "      <td>en</td>\n",
       "      <td>English</td>\n",
       "      <td>2</td>\n",
       "    </tr>\n",
       "    <tr>\n",
       "      <th>12119</th>\n",
       "      <td>44301dfb14</td>\n",
       "      <td>For himself he chose Atat??rk, or Father of th...</td>\n",
       "      <td>Ataturk was the father of the Turkish nation.</td>\n",
       "      <td>en</td>\n",
       "      <td>English</td>\n",
       "      <td>0</td>\n",
       "    </tr>\n",
       "  </tbody>\n",
       "</table>\n",
       "<p>12120 rows × 6 columns</p>\n",
       "</div>"
      ],
      "text/plain": [
       "               id                                            premise  \\\n",
       "0      5130fd2cb5  and these comments were considered in formulat...   \n",
       "1      5b72532a0b  These are issues that we wrestle with in pract...   \n",
       "2      3931fbe82a  Des petites choses comme celles-là font une di...   \n",
       "3      5622f0c60b  you know they can't really defend themselves l...   \n",
       "4      86aaa48b45  ในการเล่นบทบาทสมมุติก็เช่นกัน โอกาสที่จะได้แสด...   \n",
       "...           ...                                                ...   \n",
       "12115  2b78e2a914  The results of even the most well designed epi...   \n",
       "12116  7e9943d152  But there are two kinds of  the pleasure of do...   \n",
       "12117  5085923e6c  The important thing is to realize that it's wa...   \n",
       "12118  fc8e2fd1fe  At the west end is a detailed model of the who...   \n",
       "12119  44301dfb14  For himself he chose Atat??rk, or Father of th...   \n",
       "\n",
       "                                              hypothesis lang_abv language  \\\n",
       "0      The rules developed in the interim were put to...       en  English   \n",
       "1      Practice groups are not permitted to work on t...       en  English   \n",
       "2                  J'essayais d'accomplir quelque chose.       fr   French   \n",
       "3      They can't defend themselves because of their ...       en  English   \n",
       "4        เด็กสามารถเห็นได้ว่าชาติพันธุ์แตกต่างกันอย่างไร       th     Thai   \n",
       "...                                                  ...      ...      ...   \n",
       "12115  All studies have the same amount of uncertaint...       en  English   \n",
       "12116  But there are two kinds of the pleasure of doi...       en  English   \n",
       "12117                   It cannot be moved, now or ever.       en  English   \n",
       "12118       The model temple complex is at the east end.       en  English   \n",
       "12119      Ataturk was the father of the Turkish nation.       en  English   \n",
       "\n",
       "       label  \n",
       "0          0  \n",
       "1          2  \n",
       "2          0  \n",
       "3          0  \n",
       "4          1  \n",
       "...      ...  \n",
       "12115      2  \n",
       "12116      0  \n",
       "12117      2  \n",
       "12118      2  \n",
       "12119      0  \n",
       "\n",
       "[12120 rows x 6 columns]"
      ]
     },
     "execution_count": 178,
     "metadata": {},
     "output_type": "execute_result"
    }
   ],
   "source": [
    "df"
   ]
  },
  {
   "cell_type": "code",
   "execution_count": 179,
   "metadata": {},
   "outputs": [],
   "source": [
    "df_english = df[df['language'] == 'English']"
   ]
  },
  {
   "cell_type": "code",
   "execution_count": 180,
   "metadata": {},
   "outputs": [
    {
     "data": {
      "text/html": [
       "<div>\n",
       "<style scoped>\n",
       "    .dataframe tbody tr th:only-of-type {\n",
       "        vertical-align: middle;\n",
       "    }\n",
       "\n",
       "    .dataframe tbody tr th {\n",
       "        vertical-align: top;\n",
       "    }\n",
       "\n",
       "    .dataframe thead th {\n",
       "        text-align: right;\n",
       "    }\n",
       "</style>\n",
       "<table border=\"1\" class=\"dataframe\">\n",
       "  <thead>\n",
       "    <tr style=\"text-align: right;\">\n",
       "      <th></th>\n",
       "      <th>id</th>\n",
       "      <th>premise</th>\n",
       "      <th>hypothesis</th>\n",
       "      <th>lang_abv</th>\n",
       "      <th>language</th>\n",
       "      <th>label</th>\n",
       "    </tr>\n",
       "  </thead>\n",
       "  <tbody>\n",
       "    <tr>\n",
       "      <th>0</th>\n",
       "      <td>5130fd2cb5</td>\n",
       "      <td>and these comments were considered in formulat...</td>\n",
       "      <td>The rules developed in the interim were put to...</td>\n",
       "      <td>en</td>\n",
       "      <td>English</td>\n",
       "      <td>0</td>\n",
       "    </tr>\n",
       "    <tr>\n",
       "      <th>1</th>\n",
       "      <td>5b72532a0b</td>\n",
       "      <td>These are issues that we wrestle with in pract...</td>\n",
       "      <td>Practice groups are not permitted to work on t...</td>\n",
       "      <td>en</td>\n",
       "      <td>English</td>\n",
       "      <td>2</td>\n",
       "    </tr>\n",
       "    <tr>\n",
       "      <th>3</th>\n",
       "      <td>5622f0c60b</td>\n",
       "      <td>you know they can't really defend themselves l...</td>\n",
       "      <td>They can't defend themselves because of their ...</td>\n",
       "      <td>en</td>\n",
       "      <td>English</td>\n",
       "      <td>0</td>\n",
       "    </tr>\n",
       "    <tr>\n",
       "      <th>7</th>\n",
       "      <td>fdcd1bd867</td>\n",
       "      <td>From Cockpit Country to St. Ann's Bay</td>\n",
       "      <td>From St. Ann's Bay to Cockpit Country.</td>\n",
       "      <td>en</td>\n",
       "      <td>English</td>\n",
       "      <td>2</td>\n",
       "    </tr>\n",
       "    <tr>\n",
       "      <th>8</th>\n",
       "      <td>7cfb3d272c</td>\n",
       "      <td>Look, it's your skin, but you're going to be i...</td>\n",
       "      <td>The boss will fire you if he sees you slacking...</td>\n",
       "      <td>en</td>\n",
       "      <td>English</td>\n",
       "      <td>1</td>\n",
       "    </tr>\n",
       "    <tr>\n",
       "      <th>...</th>\n",
       "      <td>...</td>\n",
       "      <td>...</td>\n",
       "      <td>...</td>\n",
       "      <td>...</td>\n",
       "      <td>...</td>\n",
       "      <td>...</td>\n",
       "    </tr>\n",
       "    <tr>\n",
       "      <th>12115</th>\n",
       "      <td>2b78e2a914</td>\n",
       "      <td>The results of even the most well designed epi...</td>\n",
       "      <td>All studies have the same amount of uncertaint...</td>\n",
       "      <td>en</td>\n",
       "      <td>English</td>\n",
       "      <td>2</td>\n",
       "    </tr>\n",
       "    <tr>\n",
       "      <th>12116</th>\n",
       "      <td>7e9943d152</td>\n",
       "      <td>But there are two kinds of  the pleasure of do...</td>\n",
       "      <td>But there are two kinds of the pleasure of doi...</td>\n",
       "      <td>en</td>\n",
       "      <td>English</td>\n",
       "      <td>0</td>\n",
       "    </tr>\n",
       "    <tr>\n",
       "      <th>12117</th>\n",
       "      <td>5085923e6c</td>\n",
       "      <td>The important thing is to realize that it's wa...</td>\n",
       "      <td>It cannot be moved, now or ever.</td>\n",
       "      <td>en</td>\n",
       "      <td>English</td>\n",
       "      <td>2</td>\n",
       "    </tr>\n",
       "    <tr>\n",
       "      <th>12118</th>\n",
       "      <td>fc8e2fd1fe</td>\n",
       "      <td>At the west end is a detailed model of the who...</td>\n",
       "      <td>The model temple complex is at the east end.</td>\n",
       "      <td>en</td>\n",
       "      <td>English</td>\n",
       "      <td>2</td>\n",
       "    </tr>\n",
       "    <tr>\n",
       "      <th>12119</th>\n",
       "      <td>44301dfb14</td>\n",
       "      <td>For himself he chose Atat??rk, or Father of th...</td>\n",
       "      <td>Ataturk was the father of the Turkish nation.</td>\n",
       "      <td>en</td>\n",
       "      <td>English</td>\n",
       "      <td>0</td>\n",
       "    </tr>\n",
       "  </tbody>\n",
       "</table>\n",
       "<p>6870 rows × 6 columns</p>\n",
       "</div>"
      ],
      "text/plain": [
       "               id                                            premise  \\\n",
       "0      5130fd2cb5  and these comments were considered in formulat...   \n",
       "1      5b72532a0b  These are issues that we wrestle with in pract...   \n",
       "3      5622f0c60b  you know they can't really defend themselves l...   \n",
       "7      fdcd1bd867              From Cockpit Country to St. Ann's Bay   \n",
       "8      7cfb3d272c  Look, it's your skin, but you're going to be i...   \n",
       "...           ...                                                ...   \n",
       "12115  2b78e2a914  The results of even the most well designed epi...   \n",
       "12116  7e9943d152  But there are two kinds of  the pleasure of do...   \n",
       "12117  5085923e6c  The important thing is to realize that it's wa...   \n",
       "12118  fc8e2fd1fe  At the west end is a detailed model of the who...   \n",
       "12119  44301dfb14  For himself he chose Atat??rk, or Father of th...   \n",
       "\n",
       "                                              hypothesis lang_abv language  \\\n",
       "0      The rules developed in the interim were put to...       en  English   \n",
       "1      Practice groups are not permitted to work on t...       en  English   \n",
       "3      They can't defend themselves because of their ...       en  English   \n",
       "7                 From St. Ann's Bay to Cockpit Country.       en  English   \n",
       "8      The boss will fire you if he sees you slacking...       en  English   \n",
       "...                                                  ...      ...      ...   \n",
       "12115  All studies have the same amount of uncertaint...       en  English   \n",
       "12116  But there are two kinds of the pleasure of doi...       en  English   \n",
       "12117                   It cannot be moved, now or ever.       en  English   \n",
       "12118       The model temple complex is at the east end.       en  English   \n",
       "12119      Ataturk was the father of the Turkish nation.       en  English   \n",
       "\n",
       "       label  \n",
       "0          0  \n",
       "1          2  \n",
       "3          0  \n",
       "7          2  \n",
       "8          1  \n",
       "...      ...  \n",
       "12115      2  \n",
       "12116      0  \n",
       "12117      2  \n",
       "12118      2  \n",
       "12119      0  \n",
       "\n",
       "[6870 rows x 6 columns]"
      ]
     },
     "execution_count": 180,
     "metadata": {},
     "output_type": "execute_result"
    }
   ],
   "source": [
    "df_english #0, 1, 2 corresponds to entailment, neutral, and contradiction"
   ]
  },
  {
   "cell_type": "code",
   "execution_count": 143,
   "metadata": {},
   "outputs": [],
   "source": [
    "# Cleaning each sentence.\n",
    "\n",
    "import re\n",
    "import string\n",
    "\n",
    "def clean_text(text):\n",
    "#will replace the html characters with \" \"\n",
    "    text=re.sub('<.*?>', ' ', text)  \n",
    "    #To remove the punctuations\n",
    "    text = text.translate(str.maketrans(' ',' ',string.punctuation))\n",
    "    #will consider only alphabets and numerics\n",
    "    text = re.sub('[^a-zA-Z]',' ',text)  \n",
    "    #will replace newline with space\n",
    "    text = re.sub(\"\\n\",\" \",text)\n",
    "    #will convert to lower case\n",
    "    text = text.lower()\n",
    "    # will split and join the words\n",
    "    text=' '.join(text.split())\n",
    "    return text"
   ]
  },
  {
   "cell_type": "code",
   "execution_count": 144,
   "metadata": {},
   "outputs": [
    {
     "name": "stderr",
     "output_type": "stream",
     "text": [
      "<ipython-input-144-f0279ad290d7>:1: SettingWithCopyWarning: \n",
      "A value is trying to be set on a copy of a slice from a DataFrame.\n",
      "Try using .loc[row_indexer,col_indexer] = value instead\n",
      "\n",
      "See the caveats in the documentation: https://pandas.pydata.org/pandas-docs/stable/user_guide/indexing.html#returning-a-view-versus-a-copy\n",
      "  df_english['premise_c'] = [clean_text(sentence) for sentence in df_english['premise']]\n",
      "<ipython-input-144-f0279ad290d7>:2: SettingWithCopyWarning: \n",
      "A value is trying to be set on a copy of a slice from a DataFrame.\n",
      "Try using .loc[row_indexer,col_indexer] = value instead\n",
      "\n",
      "See the caveats in the documentation: https://pandas.pydata.org/pandas-docs/stable/user_guide/indexing.html#returning-a-view-versus-a-copy\n",
      "  df_english['hypothesis_c'] = [clean_text(sentence) for sentence in df_english['hypothesis']]\n"
     ]
    }
   ],
   "source": [
    "df_english['premise_c'] = [clean_text(sentence) for sentence in df_english['premise']] \n",
    "df_english['hypothesis_c'] = [clean_text(sentence) for sentence in df_english['hypothesis']] "
   ]
  },
  {
   "cell_type": "code",
   "execution_count": 145,
   "metadata": {},
   "outputs": [
    {
     "data": {
      "text/plain": [
       "\"Look, it's your skin, but you're going to be in trouble if you don't get busy.\""
      ]
     },
     "execution_count": 145,
     "metadata": {},
     "output_type": "execute_result"
    }
   ],
   "source": [
    "df_english['premise'][8]"
   ]
  },
  {
   "cell_type": "code",
   "execution_count": 146,
   "metadata": {},
   "outputs": [
    {
     "data": {
      "text/plain": [
       "'look its your skin but youre going to be in trouble if you dont get busy'"
      ]
     },
     "execution_count": 146,
     "metadata": {},
     "output_type": "execute_result"
    }
   ],
   "source": [
    "df_english['premise_c'][8]"
   ]
  },
  {
   "cell_type": "code",
   "execution_count": 147,
   "metadata": {},
   "outputs": [],
   "source": [
    "df_english = df_english.drop(columns=['premise', 'hypothesis'])"
   ]
  },
  {
   "cell_type": "code",
   "execution_count": 75,
   "metadata": {},
   "outputs": [],
   "source": [
    "# #Removal of stopwords\n",
    "\n",
    "# from gensim.parsing.preprocessing import remove_stopwords\n",
    "\n",
    "# df_english['premise_stop'] = [remove_stopwords(sentence) for sentence in df_english['premise_c']]\n",
    "# df_english['hypo_stop'] = [remove_stopwords(sentence) for sentence in df_english['hypothesis_c']]"
   ]
  },
  {
   "cell_type": "code",
   "execution_count": 76,
   "metadata": {},
   "outputs": [
    {
     "data": {
      "text/plain": [
       "'look its your skin but youre going to be in trouble if you dont get busy'"
      ]
     },
     "execution_count": 76,
     "metadata": {},
     "output_type": "execute_result"
    }
   ],
   "source": [
    "# df_english['premise_c'][8]"
   ]
  },
  {
   "cell_type": "code",
   "execution_count": 77,
   "metadata": {},
   "outputs": [
    {
     "data": {
      "text/plain": [
       "'look skin youre going trouble dont busy'"
      ]
     },
     "execution_count": 77,
     "metadata": {},
     "output_type": "execute_result"
    }
   ],
   "source": [
    "# df_english['premise_stop'][8]"
   ]
  },
  {
   "cell_type": "code",
   "execution_count": 181,
   "metadata": {},
   "outputs": [
    {
     "name": "stderr",
     "output_type": "stream",
     "text": [
      "<ipython-input-181-b403cfb9c6d3>:3: SettingWithCopyWarning: \n",
      "A value is trying to be set on a copy of a slice from a DataFrame.\n",
      "Try using .loc[row_indexer,col_indexer] = value instead\n",
      "\n",
      "See the caveats in the documentation: https://pandas.pydata.org/pandas-docs/stable/user_guide/indexing.html#returning-a-view-versus-a-copy\n",
      "  df_english['tokenized_premise'] = [simple_preprocess(sentence, deacc=True) for sentence in df_english['premise']]\n"
     ]
    },
    {
     "name": "stdout",
     "output_type": "stream",
     "text": [
      "0     [and, these, comments, were, considered, in, f...\n",
      "1     [these, are, issues, that, we, wrestle, with, ...\n",
      "3     [you, know, they, can, really, defend, themsel...\n",
      "7            [from, cockpit, country, to, st, ann, bay]\n",
      "8     [look, it, your, skin, but, you, re, going, to...\n",
      "16    [if, you, people, only, knew, how, fatally, ea...\n",
      "17    [my, own, little, corner, of, the, world, poli...\n",
      "18    [life, in, prison, then, he, available, for, p...\n",
      "19    [the, streets, are, crammed, with, vendors, se...\n",
      "20    [north, of, mytilini, stop, at, the, village, ...\n",
      "Name: tokenized_premise, dtype: object\n",
      "\n",
      "\n",
      "0     [the, rules, developed, in, the, interim, were...\n",
      "1     [practice, groups, are, not, permitted, to, wo...\n",
      "3     [they, can, defend, themselves, because, of, t...\n",
      "7            [from, st, ann, bay, to, cockpit, country]\n",
      "8     [the, boss, will, fire, you, if, he, sees, you...\n",
      "16    [many, people, have, poisoned, someone, by, mi...\n",
      "17                   [an, example, is, policy, wonking]\n",
      "18    [the, system, is, corrupt, because, he, won, b...\n",
      "19    [vendors, have, lined, the, streets, with, tor...\n",
      "20    [there, is, nothing, special, to, see, in, the...\n",
      "Name: tokenized_hypo, dtype: object\n"
     ]
    },
    {
     "name": "stderr",
     "output_type": "stream",
     "text": [
      "<ipython-input-181-b403cfb9c6d3>:4: SettingWithCopyWarning: \n",
      "A value is trying to be set on a copy of a slice from a DataFrame.\n",
      "Try using .loc[row_indexer,col_indexer] = value instead\n",
      "\n",
      "See the caveats in the documentation: https://pandas.pydata.org/pandas-docs/stable/user_guide/indexing.html#returning-a-view-versus-a-copy\n",
      "  df_english['tokenized_hypo'] = [simple_preprocess(sentence, deacc=True) for sentence in df_english['hypothesis']]\n"
     ]
    }
   ],
   "source": [
    "from gensim.utils import simple_preprocess\n",
    "# Tokenize the text column to get the new column 'tokenized_text'\n",
    "df_english['tokenized_premise'] = [simple_preprocess(sentence, deacc=True) for sentence in df_english['premise']] \n",
    "df_english['tokenized_hypo'] = [simple_preprocess(sentence, deacc=True) for sentence in df_english['hypothesis']] \n",
    "print(df_english['tokenized_premise'].head(10))\n",
    "print(\"\\n\")\n",
    "print(df_english['tokenized_hypo'].head(10))"
   ]
  },
  {
   "cell_type": "code",
   "execution_count": 117,
   "metadata": {},
   "outputs": [
    {
     "name": "stdout",
     "output_type": "stream",
     "text": [
      "0     [and, these, comment, were, consid, in, formul...\n",
      "1     [these, ar, issu, that, we, wrestl, with, in, ...\n",
      "3     [you, know, thei, cant, realli, defend, themse...\n",
      "7            [from, cockpit, countri, to, st, ann, bai]\n",
      "8     [look, it, your, skin, but, your, go, to, be, ...\n",
      "16    [if, you, peopl, onli, knew, how, fatal, easi,...\n",
      "17    [my, own, littl, corner, of, the, world, polic...\n",
      "18    [life, in, prison, then, he, avail, for, parol...\n",
      "19    [the, street, ar, cram, with, vendor, sell, sh...\n",
      "20    [north, of, mytilini, stop, at, the, villag, o...\n",
      "Name: stemmed_premise, dtype: object\n",
      "0     [the, rule, develop, in, the, interim, were, p...\n",
      "1     [practic, group, ar, not, permit, to, work, on...\n",
      "3     [thei, cant, defend, themselv, becaus, of, the...\n",
      "7            [from, st, ann, bai, to, cockpit, countri]\n",
      "8     [the, boss, will, fire, you, if, he, see, you,...\n",
      "16      [mani, peopl, have, poison, someon, by, mistak]\n",
      "17                       [an, exampl, is, polici, wonk]\n",
      "18    [the, system, is, corrupt, becaus, he, wont, b...\n",
      "19    [vendor, have, line, the, street, with, torch,...\n",
      "20    [there, is, noth, special, to, see, in, the, v...\n",
      "Name: stemmed_hypo, dtype: object\n"
     ]
    }
   ],
   "source": [
    "# # Stemming\n",
    "\n",
    "# from gensim.parsing.porter import PorterStemmer\n",
    "# porter_stemmer = PorterStemmer()\n",
    "# # Get the stemmed_tokens\n",
    "# df_english['stemmed_premise'] = [[porter_stemmer.stem(word) for word in tokens] for tokens in df_english['tokenized_premise']]\n",
    "# print(df_english['stemmed_premise'].head(10))\n",
    "# df_english['stemmed_hypo'] = [[porter_stemmer.stem(word) for word in tokens] for tokens in df_english['tokenized_hypo']]\n",
    "# print(df_english['stemmed_hypo'].head(10))"
   ]
  },
  {
   "cell_type": "code",
   "execution_count": 182,
   "metadata": {},
   "outputs": [],
   "source": [
    "from sklearn.model_selection import train_test_split\n",
    "\n",
    "X_train, X_test, Y_train, Y_test = train_test_split(df_english[['tokenized_premise', 'tokenized_hypo']], \n",
    "                                                    df_english['label'], \n",
    "                                                    test_size=0.20, \n",
    "                                                    random_state=1)"
   ]
  },
  {
   "cell_type": "code",
   "execution_count": 183,
   "metadata": {},
   "outputs": [],
   "source": [
    "X_train = X_train.reset_index()\n",
    "X_test = X_test.reset_index()\n",
    "Y_train = Y_train.to_frame()\n",
    "Y_train = Y_train.reset_index()\n",
    "Y_test = Y_test.to_frame()\n",
    "Y_test = Y_test.reset_index()"
   ]
  },
  {
   "cell_type": "code",
   "execution_count": 184,
   "metadata": {},
   "outputs": [
    {
     "name": "stdout",
     "output_type": "stream",
     "text": [
      "0    1938\n",
      "2    1836\n",
      "1    1722\n",
      "Name: label, dtype: int64\n",
      "0    489\n",
      "1    444\n",
      "2    441\n",
      "Name: label, dtype: int64\n"
     ]
    }
   ],
   "source": [
    "print(Y_train['label'].value_counts())\n",
    "print(Y_test['label'].value_counts())"
   ]
  },
  {
   "cell_type": "code",
   "execution_count": 19,
   "metadata": {},
   "outputs": [],
   "source": [
    "from gensim.models import Word2Vec"
   ]
  },
  {
   "cell_type": "code",
   "execution_count": 20,
   "metadata": {},
   "outputs": [],
   "source": [
    "#Pre-trained w2v vector word embedding from\n",
    "#https://github.com/alexandres/lexvec#pre-trained-vectors\n",
    "#LexVec common crawl word vectors. 2M words, 300 dimensions\n",
    "import gensim\n",
    "\n",
    "imported_wv = gensim.models.KeyedVectors.load_word2vec_format('lexvec.commoncrawl.300d.W.pos.neg3.vectors', binary=False)"
   ]
  },
  {
   "cell_type": "code",
   "execution_count": 176,
   "metadata": {},
   "outputs": [
    {
     "data": {
      "text/plain": [
       "array([ 9.95000e-02, -1.63950e-02, -8.36270e-02, -8.46950e-02,\n",
       "        8.68210e-02,  4.79750e-02,  8.27830e-02,  2.53925e-01,\n",
       "       -2.78270e-02,  5.09740e-02, -1.30220e-01,  1.23093e-01,\n",
       "        9.64800e-02,  1.24160e-02,  1.32761e-01, -1.21000e-04,\n",
       "        4.67220e-02, -1.75762e-01,  8.05000e-03,  1.55997e-01,\n",
       "        1.91360e-02, -1.16439e-01,  5.44870e-02,  7.56140e-02,\n",
       "       -8.44120e-02,  2.94312e-01, -8.17020e-02, -1.65690e-02,\n",
       "        2.66260e-02,  9.18180e-02,  8.77050e-02, -1.24632e-01,\n",
       "        2.91937e-01,  2.37710e-01, -3.27480e-02, -1.07833e-01,\n",
       "        1.46015e-01,  8.87330e-02, -6.86530e-02, -2.12844e-01,\n",
       "       -2.33495e-01, -3.62090e-02, -5.34100e-02, -1.59013e-01,\n",
       "        1.18460e-02, -2.60704e-01,  1.39180e-01, -2.30740e-02,\n",
       "       -2.63330e-02,  4.86990e-02, -5.65880e-02, -2.18920e-02,\n",
       "        6.80900e-03,  3.26050e-02, -1.56974e-01, -6.94750e-02,\n",
       "       -9.40770e-02,  2.16950e-02, -1.18129e-01,  1.34497e-01,\n",
       "        1.22697e-01, -2.27360e-02, -4.74220e-02,  1.18559e-01,\n",
       "       -1.72395e-01, -8.87200e-02,  9.58850e-02,  1.35187e-01,\n",
       "       -1.12409e-01,  1.22279e-01, -4.17680e-02,  2.31360e-02,\n",
       "       -2.37165e-01, -4.19740e-02, -4.30477e-01,  2.75768e-01,\n",
       "        2.62430e-02, -2.37255e-01, -1.55010e-02, -2.66224e-01,\n",
       "       -3.90200e-03, -6.21720e-02,  2.67236e-01,  4.61070e-02,\n",
       "        1.08607e-01, -1.73242e-01,  8.03930e-02,  1.43069e-01,\n",
       "       -1.72941e-01, -3.17191e-01, -1.19437e-01, -1.24053e-01,\n",
       "       -6.97000e-03, -9.63500e-03,  1.28140e-02,  1.18903e-01,\n",
       "       -1.54030e-01,  1.67484e-01, -1.00875e-01,  1.23599e-01,\n",
       "        9.32540e-02, -1.02736e-01,  8.28390e-02, -1.17930e-02,\n",
       "        1.05684e-01,  1.32871e-01,  2.74233e-01, -7.28000e-02,\n",
       "       -1.19423e-01, -2.50210e-02, -6.88100e-02, -9.99560e-02,\n",
       "        1.99700e-02, -1.71730e-02,  5.58500e-02,  1.11489e-01,\n",
       "       -9.63840e-02,  8.77450e-02,  8.36810e-02,  5.81030e-02,\n",
       "       -6.20750e-02,  2.20364e-01,  3.40090e-02,  1.27663e-01,\n",
       "       -5.65210e-02,  3.35790e-02, -7.45180e-02,  1.07100e-03,\n",
       "       -3.15120e-02, -1.66700e-03,  1.37374e-01, -5.48160e-02,\n",
       "       -1.20390e-01, -2.25160e-02,  1.40506e-01,  1.01950e-02,\n",
       "       -6.31640e-02, -4.80090e-02, -1.18172e-01,  1.53727e-01,\n",
       "       -6.99870e-02,  6.09830e-02, -7.19730e-02,  1.31371e-01,\n",
       "        1.35826e-01, -9.36610e-02, -9.99590e-02,  1.77209e-01,\n",
       "       -1.31900e-03,  1.75300e-03,  1.32246e-01,  1.28026e-01,\n",
       "       -1.01459e-01,  9.47710e-02,  2.86380e-02, -7.38100e-02,\n",
       "       -1.20799e-01, -7.08390e-02,  3.39780e-02,  3.84300e-03,\n",
       "       -2.81395e-01,  5.41750e-02,  3.31227e-01,  1.58337e-01,\n",
       "        5.82480e-02,  9.50820e-02, -5.73380e-02,  8.41990e-02,\n",
       "        1.35579e-01, -2.36647e-01,  2.02000e-04, -2.17160e-01,\n",
       "        3.13372e-01, -2.19538e-01, -6.44780e-02, -7.71040e-02,\n",
       "        2.62000e-03, -3.62420e-02,  2.40120e-02,  4.29520e-02,\n",
       "       -7.76600e-03,  1.67659e-01,  1.05515e-01,  1.50595e-01,\n",
       "        1.75467e-01, -6.46970e-02, -2.36529e-01,  5.35100e-02,\n",
       "        1.62332e-01,  1.61009e-01, -3.66160e-02, -8.25600e-03,\n",
       "        1.89739e-01, -4.23950e-02,  1.57077e-01,  2.62990e-02,\n",
       "        7.14550e-02,  9.65320e-02,  1.14020e-01,  2.33120e-02,\n",
       "        2.55130e-02, -1.23694e-01, -5.97510e-02,  5.12860e-02,\n",
       "       -3.26830e-02,  2.27960e-02,  1.59937e-01,  1.10131e-01,\n",
       "        1.42160e-01, -2.44970e-02,  5.98830e-02,  1.49209e-01,\n",
       "       -4.68840e-02, -3.55200e-02, -8.66000e-03, -7.07670e-02,\n",
       "       -8.14120e-02,  4.16450e-02,  2.79307e-01,  8.26750e-02,\n",
       "       -5.35080e-02,  1.80550e-02, -5.33700e-03,  8.85350e-02,\n",
       "       -1.75161e-01, -1.18176e-01,  1.35358e-01,  1.12445e-01,\n",
       "       -1.74970e-01, -6.47100e-03, -1.06580e-02,  2.48390e-02,\n",
       "       -1.11139e-01,  8.45720e-02, -2.23269e-01, -8.02800e-03,\n",
       "        7.49240e-02,  1.79214e-01,  1.19746e-01,  5.78080e-02,\n",
       "        8.90620e-02,  1.11924e-01, -4.84400e-03,  1.68120e-02,\n",
       "       -4.57970e-02,  1.80407e-01,  1.07334e-01,  1.06418e-01,\n",
       "        4.32700e-03, -1.13596e-01,  8.22940e-02, -6.06170e-02,\n",
       "        1.95962e-01,  9.59940e-02,  2.37460e-01,  9.93300e-02,\n",
       "        1.00985e-01, -1.22616e-01, -2.91410e-02, -1.18035e-01,\n",
       "       -9.76700e-03,  2.49134e-01, -5.82460e-02,  7.47280e-02,\n",
       "        1.72449e-01,  2.67800e-02,  1.19002e-01,  4.42970e-02,\n",
       "        1.18136e-01,  4.81000e-04,  1.77570e-02, -6.76810e-02,\n",
       "        4.77800e-02,  1.18618e-01,  7.28690e-02, -1.25080e-02,\n",
       "        7.77940e-02,  1.45678e-01, -8.42880e-02,  2.17627e-01,\n",
       "       -4.34070e-02, -6.83550e-02, -1.45110e-02, -2.91020e-02,\n",
       "       -7.52750e-02, -2.64700e-03,  1.16706e-01,  1.80793e-01,\n",
       "       -3.47560e-02,  3.33845e-01, -2.67759e-01,  7.98560e-02,\n",
       "       -2.62408e-01,  1.01488e-01,  1.56936e-01, -3.11700e-03,\n",
       "       -1.61995e-01, -1.19774e-01,  1.25340e-01,  1.50698e-01],\n",
       "      dtype=float32)"
      ]
     },
     "execution_count": 176,
     "metadata": {},
     "output_type": "execute_result"
    }
   ],
   "source": [
    "imported_wv['among']"
   ]
  },
  {
   "cell_type": "code",
   "execution_count": 152,
   "metadata": {},
   "outputs": [
    {
     "data": {
      "text/plain": [
       "300"
      ]
     },
     "execution_count": 152,
     "metadata": {},
     "output_type": "execute_result"
    }
   ],
   "source": [
    "imported_wv['among'].size"
   ]
  },
  {
   "cell_type": "code",
   "execution_count": 185,
   "metadata": {},
   "outputs": [],
   "source": [
    "X_train['vector_p'] = [[] for i in range(5496)] "
   ]
  },
  {
   "cell_type": "code",
   "execution_count": 186,
   "metadata": {},
   "outputs": [],
   "source": [
    "X_train['vector_h'] = [[] for i in range(5496)] "
   ]
  },
  {
   "cell_type": "code",
   "execution_count": 187,
   "metadata": {},
   "outputs": [],
   "source": [
    "X_train['difference'] = [[] for i in range(5496)] "
   ]
  },
  {
   "cell_type": "code",
   "execution_count": 188,
   "metadata": {},
   "outputs": [
    {
     "data": {
      "text/html": [
       "<div>\n",
       "<style scoped>\n",
       "    .dataframe tbody tr th:only-of-type {\n",
       "        vertical-align: middle;\n",
       "    }\n",
       "\n",
       "    .dataframe tbody tr th {\n",
       "        vertical-align: top;\n",
       "    }\n",
       "\n",
       "    .dataframe thead th {\n",
       "        text-align: right;\n",
       "    }\n",
       "</style>\n",
       "<table border=\"1\" class=\"dataframe\">\n",
       "  <thead>\n",
       "    <tr style=\"text-align: right;\">\n",
       "      <th></th>\n",
       "      <th>index</th>\n",
       "      <th>tokenized_premise</th>\n",
       "      <th>tokenized_hypo</th>\n",
       "      <th>vector_p</th>\n",
       "      <th>vector_h</th>\n",
       "      <th>difference</th>\n",
       "    </tr>\n",
       "  </thead>\n",
       "  <tbody>\n",
       "    <tr>\n",
       "      <th>0</th>\n",
       "      <td>3690</td>\n",
       "      <td>[among, the, sights, in, beziers, are, the, an...</td>\n",
       "      <td>[there, is, nothing, interesting, about, bezie...</td>\n",
       "      <td>[]</td>\n",
       "      <td>[]</td>\n",
       "      <td>[]</td>\n",
       "    </tr>\n",
       "    <tr>\n",
       "      <th>1</th>\n",
       "      <td>8344</td>\n",
       "      <td>[in, april, the, sultan, armies, massed, outsi...</td>\n",
       "      <td>[there, were, ten, times, as, many, of, the, s...</td>\n",
       "      <td>[]</td>\n",
       "      <td>[]</td>\n",
       "      <td>[]</td>\n",
       "    </tr>\n",
       "    <tr>\n",
       "      <th>2</th>\n",
       "      <td>5426</td>\n",
       "      <td>[when, the, two, nations, divided, it, up, fra...</td>\n",
       "      <td>[france, ended, up, not, getting, the, salt, p...</td>\n",
       "      <td>[]</td>\n",
       "      <td>[]</td>\n",
       "      <td>[]</td>\n",
       "    </tr>\n",
       "    <tr>\n",
       "      <th>3</th>\n",
       "      <td>6436</td>\n",
       "      <td>[over, most, of, the, and, the, was, able, to,...</td>\n",
       "      <td>[the, us, could, invest, more, than, it, saved...</td>\n",
       "      <td>[]</td>\n",
       "      <td>[]</td>\n",
       "      <td>[]</td>\n",
       "    </tr>\n",
       "    <tr>\n",
       "      <th>4</th>\n",
       "      <td>1794</td>\n",
       "      <td>[in, my, crossfire, days, was, patronized, eve...</td>\n",
       "      <td>[during, crossfire, even, sam, donaldson, patr...</td>\n",
       "      <td>[]</td>\n",
       "      <td>[]</td>\n",
       "      <td>[]</td>\n",
       "    </tr>\n",
       "    <tr>\n",
       "      <th>...</th>\n",
       "      <td>...</td>\n",
       "      <td>...</td>\n",
       "      <td>...</td>\n",
       "      <td>...</td>\n",
       "      <td>...</td>\n",
       "      <td>...</td>\n",
       "    </tr>\n",
       "    <tr>\n",
       "      <th>5491</th>\n",
       "      <td>1596</td>\n",
       "      <td>[and, and, so, you, know, like, every, other, ...</td>\n",
       "      <td>[tickets, to, see, chima, para, diso, cost, mo...</td>\n",
       "      <td>[]</td>\n",
       "      <td>[]</td>\n",
       "      <td>[]</td>\n",
       "    </tr>\n",
       "    <tr>\n",
       "      <th>5492</th>\n",
       "      <td>9183</td>\n",
       "      <td>[this, makes, it, incumbent, on, the, governme...</td>\n",
       "      <td>[there, is, no, need, for, the, government, to...</td>\n",
       "      <td>[]</td>\n",
       "      <td>[]</td>\n",
       "      <td>[]</td>\n",
       "    </tr>\n",
       "    <tr>\n",
       "      <th>5493</th>\n",
       "      <td>7027</td>\n",
       "      <td>[the, governing, statute, provides, that, comm...</td>\n",
       "      <td>[no, one, can, recommend, an, individual, to, ...</td>\n",
       "      <td>[]</td>\n",
       "      <td>[]</td>\n",
       "      <td>[]</td>\n",
       "    </tr>\n",
       "    <tr>\n",
       "      <th>5494</th>\n",
       "      <td>415</td>\n",
       "      <td>[there, are, two, challengers, to, these, top,...</td>\n",
       "      <td>[these, top, dogs, face, two, tough, financial...</td>\n",
       "      <td>[]</td>\n",
       "      <td>[]</td>\n",
       "      <td>[]</td>\n",
       "    </tr>\n",
       "    <tr>\n",
       "      <th>5495</th>\n",
       "      <td>9119</td>\n",
       "      <td>[on, naxos, you, can, walk, through, the, pret...</td>\n",
       "      <td>[instead, of, walking, through, the, villages,...</td>\n",
       "      <td>[]</td>\n",
       "      <td>[]</td>\n",
       "      <td>[]</td>\n",
       "    </tr>\n",
       "  </tbody>\n",
       "</table>\n",
       "<p>5496 rows × 6 columns</p>\n",
       "</div>"
      ],
      "text/plain": [
       "      index                                  tokenized_premise  \\\n",
       "0      3690  [among, the, sights, in, beziers, are, the, an...   \n",
       "1      8344  [in, april, the, sultan, armies, massed, outsi...   \n",
       "2      5426  [when, the, two, nations, divided, it, up, fra...   \n",
       "3      6436  [over, most, of, the, and, the, was, able, to,...   \n",
       "4      1794  [in, my, crossfire, days, was, patronized, eve...   \n",
       "...     ...                                                ...   \n",
       "5491   1596  [and, and, so, you, know, like, every, other, ...   \n",
       "5492   9183  [this, makes, it, incumbent, on, the, governme...   \n",
       "5493   7027  [the, governing, statute, provides, that, comm...   \n",
       "5494    415  [there, are, two, challengers, to, these, top,...   \n",
       "5495   9119  [on, naxos, you, can, walk, through, the, pret...   \n",
       "\n",
       "                                         tokenized_hypo vector_p vector_h  \\\n",
       "0     [there, is, nothing, interesting, about, bezie...       []       []   \n",
       "1     [there, were, ten, times, as, many, of, the, s...       []       []   \n",
       "2     [france, ended, up, not, getting, the, salt, p...       []       []   \n",
       "3     [the, us, could, invest, more, than, it, saved...       []       []   \n",
       "4     [during, crossfire, even, sam, donaldson, patr...       []       []   \n",
       "...                                                 ...      ...      ...   \n",
       "5491  [tickets, to, see, chima, para, diso, cost, mo...       []       []   \n",
       "5492  [there, is, no, need, for, the, government, to...       []       []   \n",
       "5493  [no, one, can, recommend, an, individual, to, ...       []       []   \n",
       "5494  [these, top, dogs, face, two, tough, financial...       []       []   \n",
       "5495  [instead, of, walking, through, the, villages,...       []       []   \n",
       "\n",
       "     difference  \n",
       "0            []  \n",
       "1            []  \n",
       "2            []  \n",
       "3            []  \n",
       "4            []  \n",
       "...         ...  \n",
       "5491         []  \n",
       "5492         []  \n",
       "5493         []  \n",
       "5494         []  \n",
       "5495         []  \n",
       "\n",
       "[5496 rows x 6 columns]"
      ]
     },
     "execution_count": 188,
     "metadata": {},
     "output_type": "execute_result"
    }
   ],
   "source": [
    "X_train"
   ]
  },
  {
   "cell_type": "code",
   "execution_count": 189,
   "metadata": {},
   "outputs": [
    {
     "name": "stderr",
     "output_type": "stream",
     "text": [
      "<ipython-input-189-1ded7f8555b0>:20: DeprecationWarning: `np.float` is a deprecated alias for the builtin `float`. To silence this warning, use `float` by itself. Doing this will not modify any behavior and is safe. If you specifically wanted the numpy scalar type, use `np.float64` here.\n",
      "Deprecated in NumPy 1.20; for more details and guidance: https://numpy.org/devdocs/release/1.20.0-notes.html#deprecations\n",
      "  array_vector_p = np.array(array_vector_p).astype(np.float)\n",
      "<ipython-input-189-1ded7f8555b0>:21: DeprecationWarning: `np.float` is a deprecated alias for the builtin `float`. To silence this warning, use `float` by itself. Doing this will not modify any behavior and is safe. If you specifically wanted the numpy scalar type, use `np.float64` here.\n",
      "Deprecated in NumPy 1.20; for more details and guidance: https://numpy.org/devdocs/release/1.20.0-notes.html#deprecations\n",
      "  array_vector_h = np.array(array_vector_h).astype(np.float)\n",
      "<ipython-input-189-1ded7f8555b0>:29: SettingWithCopyWarning: \n",
      "A value is trying to be set on a copy of a slice from a DataFrame\n",
      "\n",
      "See the caveats in the documentation: https://pandas.pydata.org/pandas-docs/stable/user_guide/indexing.html#returning-a-view-versus-a-copy\n",
      "  X_train['vector_p'][index] = model_vector_p\n",
      "<ipython-input-189-1ded7f8555b0>:34: SettingWithCopyWarning: \n",
      "A value is trying to be set on a copy of a slice from a DataFrame\n",
      "\n",
      "See the caveats in the documentation: https://pandas.pydata.org/pandas-docs/stable/user_guide/indexing.html#returning-a-view-versus-a-copy\n",
      "  X_train['vector_h'][index] = model_vector_h\n"
     ]
    }
   ],
   "source": [
    "import numpy as np\n",
    "\n",
    "def get_word_vector(token):\n",
    "    if token in imported_wv.vocab:\n",
    "        return imported_wv[token]\n",
    "    else:\n",
    "        return [int(0) for i in range(300)]\n",
    "\n",
    "for index, row in X_train.iterrows():\n",
    "    array_vector_p = []\n",
    "    for token in row['tokenized_premise']:\n",
    "        word_vector = get_word_vector(token)\n",
    "        array_vector_p.append(word_vector)\n",
    "        \n",
    "    array_vector_h = []\n",
    "    for token in row['tokenized_hypo']:\n",
    "        word_vector = get_word_vector(token)\n",
    "        array_vector_h.append(word_vector)\n",
    "        \n",
    "    array_vector_p = np.array(array_vector_p).astype(np.float)\n",
    "    array_vector_h = np.array(array_vector_h).astype(np.float)\n",
    "    \n",
    "#     if(index == 0):\n",
    "#         print(array_vector_p)\n",
    "    model_vector_p = (np.mean(array_vector_p, axis=0)).tolist()\n",
    "    model_vector_h = (np.mean(array_vector_h, axis=0)).tolist()\n",
    "\n",
    "    if type(model_vector_p) is list:  \n",
    "        X_train['vector_p'][index] = model_vector_p\n",
    "    else:\n",
    "        X_train['vector_p'][index] = [int(0) for i in range(300)]\n",
    "        \n",
    "    if type(model_vector_h) is list:  \n",
    "        X_train['vector_h'][index] = model_vector_h\n",
    "    else:\n",
    "        X_train['vector_h'][index] = [int(0) for i in range(300)]"
   ]
  },
  {
   "cell_type": "code",
   "execution_count": 190,
   "metadata": {},
   "outputs": [
    {
     "name": "stdout",
     "output_type": "stream",
     "text": [
      "<class 'pandas.core.frame.DataFrame'>\n",
      "RangeIndex: 5496 entries, 0 to 5495\n",
      "Data columns (total 6 columns):\n",
      " #   Column             Non-Null Count  Dtype \n",
      "---  ------             --------------  ----- \n",
      " 0   index              5496 non-null   int64 \n",
      " 1   tokenized_premise  5496 non-null   object\n",
      " 2   tokenized_hypo     5496 non-null   object\n",
      " 3   vector_p           5496 non-null   object\n",
      " 4   vector_h           5496 non-null   object\n",
      " 5   difference         5496 non-null   object\n",
      "dtypes: int64(1), object(5)\n",
      "memory usage: 257.8+ KB\n"
     ]
    }
   ],
   "source": [
    "X_train.info()"
   ]
  },
  {
   "cell_type": "code",
   "execution_count": 191,
   "metadata": {},
   "outputs": [
    {
     "name": "stderr",
     "output_type": "stream",
     "text": [
      "<ipython-input-191-37257d207415>:2: SettingWithCopyWarning: \n",
      "A value is trying to be set on a copy of a slice from a DataFrame\n",
      "\n",
      "See the caveats in the documentation: https://pandas.pydata.org/pandas-docs/stable/user_guide/indexing.html#returning-a-view-versus-a-copy\n",
      "  X_train['difference'][index] = np.array(X_train['vector_h'][index]) - np.array(X_train['vector_p'][index])\n"
     ]
    }
   ],
   "source": [
    "for index, row in X_train.iterrows():\n",
    "    X_train['difference'][index] = np.array(X_train['vector_h'][index]) - np.array(X_train['vector_p'][index])"
   ]
  },
  {
   "cell_type": "code",
   "execution_count": 192,
   "metadata": {},
   "outputs": [
    {
     "data": {
      "text/html": [
       "<div>\n",
       "<style scoped>\n",
       "    .dataframe tbody tr th:only-of-type {\n",
       "        vertical-align: middle;\n",
       "    }\n",
       "\n",
       "    .dataframe tbody tr th {\n",
       "        vertical-align: top;\n",
       "    }\n",
       "\n",
       "    .dataframe thead th {\n",
       "        text-align: right;\n",
       "    }\n",
       "</style>\n",
       "<table border=\"1\" class=\"dataframe\">\n",
       "  <thead>\n",
       "    <tr style=\"text-align: right;\">\n",
       "      <th></th>\n",
       "      <th>index</th>\n",
       "      <th>tokenized_premise</th>\n",
       "      <th>tokenized_hypo</th>\n",
       "      <th>vector_p</th>\n",
       "      <th>vector_h</th>\n",
       "      <th>difference</th>\n",
       "    </tr>\n",
       "  </thead>\n",
       "  <tbody>\n",
       "    <tr>\n",
       "      <th>0</th>\n",
       "      <td>3690</td>\n",
       "      <td>[among, the, sights, in, beziers, are, the, an...</td>\n",
       "      <td>[there, is, nothing, interesting, about, bezie...</td>\n",
       "      <td>[-0.015282270235656068, 0.008571621798280929, ...</td>\n",
       "      <td>[-0.019904833442221086, -0.008884416272242865,...</td>\n",
       "      <td>[-0.004622563206565018, -0.017456038070523795,...</td>\n",
       "    </tr>\n",
       "    <tr>\n",
       "      <th>1</th>\n",
       "      <td>8344</td>\n",
       "      <td>[in, april, the, sultan, armies, massed, outsi...</td>\n",
       "      <td>[there, were, ten, times, as, many, of, the, s...</td>\n",
       "      <td>[0.005300436750985682, 0.04070000002684537, 0....</td>\n",
       "      <td>[0.009112249954341678, 0.02851674985140562, 0....</td>\n",
       "      <td>[0.003811813203355996, -0.012183250175439753, ...</td>\n",
       "    </tr>\n",
       "    <tr>\n",
       "      <th>2</th>\n",
       "      <td>5426</td>\n",
       "      <td>[when, the, two, nations, divided, it, up, fra...</td>\n",
       "      <td>[france, ended, up, not, getting, the, salt, p...</td>\n",
       "      <td>[0.022649556102502782, 0.023793332589169342, -...</td>\n",
       "      <td>[0.05231237586122006, -0.05410587548976764, 0....</td>\n",
       "      <td>[0.02966281975871728, -0.07789920807893698, 0....</td>\n",
       "    </tr>\n",
       "    <tr>\n",
       "      <th>3</th>\n",
       "      <td>6436</td>\n",
       "      <td>[over, most, of, the, and, the, was, able, to,...</td>\n",
       "      <td>[the, us, could, invest, more, than, it, saved...</td>\n",
       "      <td>[0.0041463681049399865, 0.05078726270432143, -...</td>\n",
       "      <td>[0.013907545468431304, 0.056153181876817886, 0...</td>\n",
       "      <td>[0.009761177363491318, 0.005365919172496458, 0...</td>\n",
       "    </tr>\n",
       "    <tr>\n",
       "      <th>4</th>\n",
       "      <td>1794</td>\n",
       "      <td>[in, my, crossfire, days, was, patronized, eve...</td>\n",
       "      <td>[during, crossfire, even, sam, donaldson, patr...</td>\n",
       "      <td>[0.0017851994372904301, -0.002214900031685829,...</td>\n",
       "      <td>[-0.049998286313244274, -0.029047714014138495,...</td>\n",
       "      <td>[-0.0517834857505347, -0.026832813982452665, 0...</td>\n",
       "    </tr>\n",
       "    <tr>\n",
       "      <th>...</th>\n",
       "      <td>...</td>\n",
       "      <td>...</td>\n",
       "      <td>...</td>\n",
       "      <td>...</td>\n",
       "      <td>...</td>\n",
       "      <td>...</td>\n",
       "    </tr>\n",
       "    <tr>\n",
       "      <th>5491</th>\n",
       "      <td>1596</td>\n",
       "      <td>[and, and, so, you, know, like, every, other, ...</td>\n",
       "      <td>[tickets, to, see, chima, para, diso, cost, mo...</td>\n",
       "      <td>[-0.002646531516802497, 0.04914478086720919, 0...</td>\n",
       "      <td>[-0.06476137484423816, 0.06780787429306656, 0....</td>\n",
       "      <td>[-0.062114843327435665, 0.01866309342585737, 0...</td>\n",
       "    </tr>\n",
       "    <tr>\n",
       "      <th>5492</th>\n",
       "      <td>9183</td>\n",
       "      <td>[this, makes, it, incumbent, on, the, governme...</td>\n",
       "      <td>[there, is, no, need, for, the, government, to...</td>\n",
       "      <td>[-0.0293209441644851, 0.0801286106903313, -0.0...</td>\n",
       "      <td>[-0.02741039881075267, 0.06325939999272426, 0....</td>\n",
       "      <td>[0.0019105453537324318, -0.016869210697607037,...</td>\n",
       "    </tr>\n",
       "    <tr>\n",
       "      <th>5493</th>\n",
       "      <td>7027</td>\n",
       "      <td>[the, governing, statute, provides, that, comm...</td>\n",
       "      <td>[no, one, can, recommend, an, individual, to, ...</td>\n",
       "      <td>[0.026640075737751037, 0.10697356573710183, -0...</td>\n",
       "      <td>[-0.0011662722311236641, 0.10402181795374914, ...</td>\n",
       "      <td>[-0.0278063479688747, -0.002951747783352693, 0...</td>\n",
       "    </tr>\n",
       "    <tr>\n",
       "      <th>5494</th>\n",
       "      <td>415</td>\n",
       "      <td>[there, are, two, challengers, to, these, top,...</td>\n",
       "      <td>[these, top, dogs, face, two, tough, financial...</td>\n",
       "      <td>[-0.017047250410541892, 0.03684075048658997, -...</td>\n",
       "      <td>[0.03547312528826296, 0.033181875012815, -0.00...</td>\n",
       "      <td>[0.052520375698804855, -0.0036588754737749696,...</td>\n",
       "    </tr>\n",
       "    <tr>\n",
       "      <th>5495</th>\n",
       "      <td>9119</td>\n",
       "      <td>[on, naxos, you, can, walk, through, the, pret...</td>\n",
       "      <td>[instead, of, walking, through, the, villages,...</td>\n",
       "      <td>[-0.014873654995081496, 0.015749930942045718, ...</td>\n",
       "      <td>[-0.002115075843623624, 0.03250015444623736, -...</td>\n",
       "      <td>[0.012758579151457873, 0.016750223504191645, -...</td>\n",
       "    </tr>\n",
       "  </tbody>\n",
       "</table>\n",
       "<p>5496 rows × 6 columns</p>\n",
       "</div>"
      ],
      "text/plain": [
       "      index                                  tokenized_premise  \\\n",
       "0      3690  [among, the, sights, in, beziers, are, the, an...   \n",
       "1      8344  [in, april, the, sultan, armies, massed, outsi...   \n",
       "2      5426  [when, the, two, nations, divided, it, up, fra...   \n",
       "3      6436  [over, most, of, the, and, the, was, able, to,...   \n",
       "4      1794  [in, my, crossfire, days, was, patronized, eve...   \n",
       "...     ...                                                ...   \n",
       "5491   1596  [and, and, so, you, know, like, every, other, ...   \n",
       "5492   9183  [this, makes, it, incumbent, on, the, governme...   \n",
       "5493   7027  [the, governing, statute, provides, that, comm...   \n",
       "5494    415  [there, are, two, challengers, to, these, top,...   \n",
       "5495   9119  [on, naxos, you, can, walk, through, the, pret...   \n",
       "\n",
       "                                         tokenized_hypo  \\\n",
       "0     [there, is, nothing, interesting, about, bezie...   \n",
       "1     [there, were, ten, times, as, many, of, the, s...   \n",
       "2     [france, ended, up, not, getting, the, salt, p...   \n",
       "3     [the, us, could, invest, more, than, it, saved...   \n",
       "4     [during, crossfire, even, sam, donaldson, patr...   \n",
       "...                                                 ...   \n",
       "5491  [tickets, to, see, chima, para, diso, cost, mo...   \n",
       "5492  [there, is, no, need, for, the, government, to...   \n",
       "5493  [no, one, can, recommend, an, individual, to, ...   \n",
       "5494  [these, top, dogs, face, two, tough, financial...   \n",
       "5495  [instead, of, walking, through, the, villages,...   \n",
       "\n",
       "                                               vector_p  \\\n",
       "0     [-0.015282270235656068, 0.008571621798280929, ...   \n",
       "1     [0.005300436750985682, 0.04070000002684537, 0....   \n",
       "2     [0.022649556102502782, 0.023793332589169342, -...   \n",
       "3     [0.0041463681049399865, 0.05078726270432143, -...   \n",
       "4     [0.0017851994372904301, -0.002214900031685829,...   \n",
       "...                                                 ...   \n",
       "5491  [-0.002646531516802497, 0.04914478086720919, 0...   \n",
       "5492  [-0.0293209441644851, 0.0801286106903313, -0.0...   \n",
       "5493  [0.026640075737751037, 0.10697356573710183, -0...   \n",
       "5494  [-0.017047250410541892, 0.03684075048658997, -...   \n",
       "5495  [-0.014873654995081496, 0.015749930942045718, ...   \n",
       "\n",
       "                                               vector_h  \\\n",
       "0     [-0.019904833442221086, -0.008884416272242865,...   \n",
       "1     [0.009112249954341678, 0.02851674985140562, 0....   \n",
       "2     [0.05231237586122006, -0.05410587548976764, 0....   \n",
       "3     [0.013907545468431304, 0.056153181876817886, 0...   \n",
       "4     [-0.049998286313244274, -0.029047714014138495,...   \n",
       "...                                                 ...   \n",
       "5491  [-0.06476137484423816, 0.06780787429306656, 0....   \n",
       "5492  [-0.02741039881075267, 0.06325939999272426, 0....   \n",
       "5493  [-0.0011662722311236641, 0.10402181795374914, ...   \n",
       "5494  [0.03547312528826296, 0.033181875012815, -0.00...   \n",
       "5495  [-0.002115075843623624, 0.03250015444623736, -...   \n",
       "\n",
       "                                             difference  \n",
       "0     [-0.004622563206565018, -0.017456038070523795,...  \n",
       "1     [0.003811813203355996, -0.012183250175439753, ...  \n",
       "2     [0.02966281975871728, -0.07789920807893698, 0....  \n",
       "3     [0.009761177363491318, 0.005365919172496458, 0...  \n",
       "4     [-0.0517834857505347, -0.026832813982452665, 0...  \n",
       "...                                                 ...  \n",
       "5491  [-0.062114843327435665, 0.01866309342585737, 0...  \n",
       "5492  [0.0019105453537324318, -0.016869210697607037,...  \n",
       "5493  [-0.0278063479688747, -0.002951747783352693, 0...  \n",
       "5494  [0.052520375698804855, -0.0036588754737749696,...  \n",
       "5495  [0.012758579151457873, 0.016750223504191645, -...  \n",
       "\n",
       "[5496 rows x 6 columns]"
      ]
     },
     "execution_count": 192,
     "metadata": {},
     "output_type": "execute_result"
    }
   ],
   "source": [
    "X_train"
   ]
  },
  {
   "cell_type": "code",
   "execution_count": 193,
   "metadata": {},
   "outputs": [],
   "source": [
    "X_train_final = X_train[['difference']]"
   ]
  },
  {
   "cell_type": "code",
   "execution_count": 194,
   "metadata": {},
   "outputs": [],
   "source": [
    "train_features = []\n",
    "# Converting the tokens into the format that the model requires\n",
    "for index, row in X_train_final.iterrows():\n",
    "    # Converting the tokens into the format that the model requires\n",
    "    train_features.append(row['difference'])"
   ]
  },
  {
   "cell_type": "code",
   "execution_count": 195,
   "metadata": {},
   "outputs": [
    {
     "data": {
      "text/plain": [
       "5496"
      ]
     },
     "execution_count": 195,
     "metadata": {},
     "output_type": "execute_result"
    }
   ],
   "source": [
    "len(train_features)"
   ]
  },
  {
   "cell_type": "code",
   "execution_count": 196,
   "metadata": {},
   "outputs": [
    {
     "data": {
      "text/plain": [
       "300"
      ]
     },
     "execution_count": 196,
     "metadata": {},
     "output_type": "execute_result"
    }
   ],
   "source": [
    "len(train_features[0])"
   ]
  },
  {
   "cell_type": "code",
   "execution_count": 204,
   "metadata": {},
   "outputs": [
    {
     "data": {
      "text/plain": [
       "array([-4.62256321e-03, -1.74560381e-02,  6.11753987e-02, -4.54033695e-03,\n",
       "        1.25924950e-01, -4.75660385e-03, -2.30304863e-04, -4.31561579e-02,\n",
       "        2.15748929e-02, -4.92702376e-03,  1.70891048e-02,  5.85325082e-02,\n",
       "       -4.15083882e-02,  2.26047899e-02, -7.22706122e-02,  6.24004963e-03,\n",
       "        7.02362679e-02,  8.09442320e-02, -1.96800653e-02, -5.67001580e-02,\n",
       "        7.12231372e-02,  1.02528734e-01, -3.43041071e-02, -1.41253017e-02,\n",
       "       -4.54372982e-02,  4.65085821e-02, -6.18880843e-02,  1.02365168e-01,\n",
       "       -6.12818750e-02,  8.42499885e-03,  6.98693447e-02,  2.28335849e-02,\n",
       "        2.48804522e-02, -4.07750216e-02, -1.80086679e-02,  1.12880203e-01,\n",
       "       -4.84888542e-02,  4.42164973e-03, -4.57864357e-02,  7.78059392e-02,\n",
       "       -5.25197177e-02, -1.69647357e-02,  1.29991264e-01,  2.87881284e-02,\n",
       "        1.12598330e-02, -3.35305948e-03,  8.15368783e-02, -4.23520964e-04,\n",
       "       -2.61711407e-02, -6.66723010e-02,  4.14351535e-02, -5.15956800e-02,\n",
       "        3.56038167e-03, -4.88575272e-03, -9.80776989e-02, -4.54839818e-02,\n",
       "       -4.56559996e-02,  6.39859006e-02, -2.33545844e-03,  2.45984672e-02,\n",
       "        9.24445658e-03, -1.67147653e-02,  1.25527321e-02,  4.20898641e-03,\n",
       "       -2.18244274e-03, -8.72021900e-02, -1.32076404e-02,  4.90555098e-02,\n",
       "       -1.11335721e-02, -1.06315433e-01, -5.91014636e-02, -4.20134741e-02,\n",
       "        3.01023286e-02, -1.02038600e-01, -2.91611970e-02, -1.01109703e-01,\n",
       "        4.93539659e-02,  1.62339254e-02,  2.77938427e-02, -3.48131675e-02,\n",
       "        1.94753344e-02, -1.63660125e-01, -5.43497363e-02,  6.28700224e-03,\n",
       "        3.03581201e-02, -8.33040056e-02, -1.37406736e-02, -1.11702071e-01,\n",
       "        4.01200658e-02, -3.47298840e-02, -7.54251847e-03, -2.30118559e-02,\n",
       "        1.24029192e-01,  3.02700763e-03, -3.83322085e-02, -7.87505998e-02,\n",
       "       -1.38537561e-02,  1.16379408e-02,  8.72325250e-03,  3.08402275e-02,\n",
       "        2.20265652e-02, -1.03690532e-02,  6.41278708e-02, -5.67678014e-02,\n",
       "       -7.39008168e-03,  2.80027785e-02, -7.18468487e-02,  1.38266219e-01,\n",
       "       -6.17415880e-03, -2.69432252e-03, -7.08952924e-02,  1.13971257e-01,\n",
       "       -5.69600054e-02,  6.26976770e-02, -1.27185351e-02,  5.07377045e-02,\n",
       "       -1.37711442e-01,  8.24098131e-02, -9.02542345e-03,  2.90853117e-02,\n",
       "       -8.06491085e-03,  1.23852969e-01,  3.24002012e-02, -9.34422221e-03,\n",
       "        8.14354600e-02, -3.08760283e-03,  5.07535935e-02,  1.09895594e-03,\n",
       "        6.85550067e-02,  2.46612218e-02, -7.52489277e-02, -2.57045069e-02,\n",
       "       -8.58306514e-04,  2.54862699e-02, -2.57852037e-03,  8.65846860e-02,\n",
       "        1.48741824e-04, -1.76501344e-02,  1.92339584e-02, -1.06406019e-01,\n",
       "        1.91720566e-02, -5.28837162e-02, -1.34206902e-01, -4.26543978e-02,\n",
       "       -3.87704357e-02, -8.82011877e-02,  2.95940495e-02,  5.25129114e-02,\n",
       "        9.19770703e-02,  3.17871802e-02,  3.34023803e-02, -3.48083502e-02,\n",
       "        4.86597829e-02, -2.93713150e-02, -4.21787481e-02, -4.39516441e-02,\n",
       "       -6.10951182e-02, -2.54393448e-02,  1.84119563e-02,  2.88162707e-03,\n",
       "       -6.63557749e-02,  2.30278176e-02,  4.51405633e-02, -5.40041758e-02,\n",
       "       -3.08417989e-02,  1.41301416e-01,  4.42410286e-02, -1.08832456e-01,\n",
       "        1.07112444e-01, -6.68840129e-02,  1.28964790e-02,  5.01564987e-02,\n",
       "       -1.11139692e-01, -6.86861253e-02, -5.43934486e-02,  5.51271279e-02,\n",
       "       -7.62074703e-02,  4.33904797e-02,  3.35830451e-02, -6.97725149e-02,\n",
       "        1.14094438e-01, -1.16330391e-01,  5.71936395e-02, -9.41246092e-02,\n",
       "        1.07116853e-01,  6.86682954e-02,  1.76272150e-02, -7.39090576e-02,\n",
       "       -6.65687672e-03, -9.80380235e-03,  4.17863070e-03, -4.12640672e-02,\n",
       "        3.13325112e-02,  2.27573303e-02, -4.64918524e-02, -8.00147113e-02,\n",
       "        2.35370563e-02,  2.64463297e-02,  5.31301738e-02,  5.71797791e-02,\n",
       "        9.36822289e-02,  9.12786569e-02, -1.44489451e-02, -8.74403467e-02,\n",
       "        7.98541810e-03, -6.36403988e-02,  2.92761321e-02, -8.70743399e-02,\n",
       "        8.80571248e-02,  3.17677506e-02, -3.85244918e-03,  5.66118430e-02,\n",
       "        2.35644799e-02, -4.32822666e-02,  4.80192064e-03, -1.32603279e-01,\n",
       "       -3.87766187e-02, -1.35670301e-01,  3.11433304e-02, -2.63050380e-02,\n",
       "        5.53527247e-02, -7.03030157e-02, -1.95007990e-02, -2.77241475e-02,\n",
       "       -4.81271894e-02,  1.09516111e-01,  2.11620745e-03, -4.89809723e-02,\n",
       "        3.25335676e-02,  3.43715972e-02, -1.05885946e-02, -5.05865216e-02,\n",
       "       -6.20574076e-02,  1.32885222e-02,  4.14473435e-02, -1.26734033e-02,\n",
       "       -8.45371968e-02, -3.47792479e-02, -6.71052688e-03, -6.36649614e-04,\n",
       "       -6.81345516e-02,  6.49383973e-03,  5.31026644e-02,  2.35390294e-01,\n",
       "        5.61529619e-02, -1.13615589e-01, -5.66213947e-02,  3.44610348e-02,\n",
       "        2.55252765e-02, -1.92324894e-02, -1.53629671e-01,  3.76431207e-02,\n",
       "       -5.96007023e-02, -7.41742253e-02, -3.61543552e-02, -6.27465445e-02,\n",
       "       -3.99876067e-02, -5.30399101e-02,  3.14365469e-02,  4.53043219e-02,\n",
       "       -6.66703711e-02,  3.61773216e-02,  3.81656963e-02,  7.32647674e-02,\n",
       "       -4.62187192e-02,  3.78549613e-02,  3.22562318e-02,  9.95174757e-03,\n",
       "       -6.58715112e-04,  4.14960363e-02,  6.25786327e-02, -4.02242903e-02,\n",
       "       -4.04548078e-02, -2.48774353e-02,  1.13193370e-01, -3.53915655e-03,\n",
       "        9.76723938e-02, -9.21553238e-02,  1.00941283e-01, -7.85615726e-03,\n",
       "        8.87163925e-02,  8.82481527e-02, -4.46601377e-02, -1.04356982e-01,\n",
       "        5.45980775e-02,  2.73447764e-02, -5.43420394e-02, -9.83542693e-02,\n",
       "       -1.18156295e-02, -4.79484126e-02,  4.17825353e-02,  5.35724397e-02,\n",
       "       -1.31342784e-01, -4.01163929e-02,  9.72704671e-02, -6.66398804e-02,\n",
       "       -4.93465889e-04, -4.51707493e-03, -1.34029739e-02, -4.97875822e-02])"
      ]
     },
     "execution_count": 204,
     "metadata": {},
     "output_type": "execute_result"
    }
   ],
   "source": [
    "train_features[0]"
   ]
  },
  {
   "cell_type": "code",
   "execution_count": 198,
   "metadata": {},
   "outputs": [
    {
     "data": {
      "text/plain": [
       "LinearSVC(max_iter=4000)"
      ]
     },
     "execution_count": 198,
     "metadata": {},
     "output_type": "execute_result"
    }
   ],
   "source": [
    "from sklearn.svm import LinearSVC\n",
    "\n",
    "# Let us try linear SVC model\n",
    "SVC = LinearSVC(max_iter=4000)\n",
    "SVC.fit(train_features, Y_train['label'])"
   ]
  },
  {
   "cell_type": "code",
   "execution_count": 199,
   "metadata": {},
   "outputs": [
    {
     "data": {
      "text/plain": [
       "RandomForestClassifier(n_estimators=200)"
      ]
     },
     "execution_count": 199,
     "metadata": {},
     "output_type": "execute_result"
    }
   ],
   "source": [
    "from sklearn.ensemble import RandomForestClassifier\n",
    "\n",
    "clf2 = RandomForestClassifier(n_estimators=200)\n",
    "clf2.fit(train_features, Y_train['label'])"
   ]
  },
  {
   "cell_type": "code",
   "execution_count": 200,
   "metadata": {},
   "outputs": [
    {
     "name": "stderr",
     "output_type": "stream",
     "text": [
      "<ipython-input-200-8214658a8ade>:16: DeprecationWarning: `np.float` is a deprecated alias for the builtin `float`. To silence this warning, use `float` by itself. Doing this will not modify any behavior and is safe. If you specifically wanted the numpy scalar type, use `np.float64` here.\n",
      "Deprecated in NumPy 1.20; for more details and guidance: https://numpy.org/devdocs/release/1.20.0-notes.html#deprecations\n",
      "  array_vector_p = np.array(array_vector_p).astype(np.float)\n",
      "<ipython-input-200-8214658a8ade>:17: DeprecationWarning: `np.float` is a deprecated alias for the builtin `float`. To silence this warning, use `float` by itself. Doing this will not modify any behavior and is safe. If you specifically wanted the numpy scalar type, use `np.float64` here.\n",
      "Deprecated in NumPy 1.20; for more details and guidance: https://numpy.org/devdocs/release/1.20.0-notes.html#deprecations\n",
      "  array_vector_h = np.array(array_vector_h).astype(np.float)\n"
     ]
    }
   ],
   "source": [
    "from sklearn.metrics import classification_report\n",
    "test_features_p = []\n",
    "test_features_h = []\n",
    "test_features_difference = []\n",
    "for index, row in X_test.iterrows():\n",
    "    array_vector_p = []\n",
    "    for token in row['tokenized_premise']:\n",
    "        word_vector = get_word_vector(token)\n",
    "        array_vector_p.append(word_vector)\n",
    "        \n",
    "    array_vector_h = []\n",
    "    for token in row['tokenized_hypo']:\n",
    "        word_vector = get_word_vector(token)\n",
    "        array_vector_h.append(word_vector)\n",
    "        \n",
    "    array_vector_p = np.array(array_vector_p).astype(np.float)\n",
    "    array_vector_h = np.array(array_vector_h).astype(np.float)\n",
    "    \n",
    "#     if(index == 0):\n",
    "#         print(array_vector_p)\n",
    "    model_vector_p = (np.mean(array_vector_p, axis=0)).tolist()\n",
    "    model_vector_h = (np.mean(array_vector_h, axis=0)).tolist()\n",
    "    \n",
    "    if type(model_vector_p) is list:\n",
    "        test_features_p.append(model_vector_p)\n",
    "    else:\n",
    "        test_features_p.append(np.array([0 for i in range(300)]))\n",
    "        \n",
    "    if type(model_vector_h) is list:\n",
    "        test_features_h.append(model_vector_h)\n",
    "    else:\n",
    "        test_features_h.append(np.array([0 for i in range(300)]))"
   ]
  },
  {
   "cell_type": "code",
   "execution_count": 201,
   "metadata": {},
   "outputs": [],
   "source": [
    "for i in range(len(test_features_h)):\n",
    "    difference = np.array(test_features_h[i]) - np.array(test_features_p[i])\n",
    "    test_features_difference.append(difference)"
   ]
  },
  {
   "cell_type": "code",
   "execution_count": 202,
   "metadata": {},
   "outputs": [
    {
     "name": "stdout",
     "output_type": "stream",
     "text": [
      "              precision    recall  f1-score   support\n",
      "\n",
      "           0       0.48      0.52      0.50       489\n",
      "           1       0.42      0.38      0.40       444\n",
      "           2       0.39      0.40      0.40       441\n",
      "\n",
      "    accuracy                           0.43      1374\n",
      "   macro avg       0.43      0.43      0.43      1374\n",
      "weighted avg       0.43      0.43      0.43      1374\n",
      "\n"
     ]
    }
   ],
   "source": [
    "test_predictions_word2vec = clf2.predict(test_features_difference)\n",
    "print(classification_report(Y_test['label'],test_predictions_word2vec))"
   ]
  },
  {
   "cell_type": "code",
   "execution_count": 203,
   "metadata": {},
   "outputs": [
    {
     "name": "stdout",
     "output_type": "stream",
     "text": [
      "              precision    recall  f1-score   support\n",
      "\n",
      "           0       0.41      0.42      0.42       489\n",
      "           1       0.39      0.34      0.36       444\n",
      "           2       0.44      0.48      0.46       441\n",
      "\n",
      "    accuracy                           0.41      1374\n",
      "   macro avg       0.41      0.41      0.41      1374\n",
      "weighted avg       0.41      0.41      0.41      1374\n",
      "\n"
     ]
    }
   ],
   "source": [
    "test_predictions_word2vec_svc = SVC.predict(test_features_difference)\n",
    "print(classification_report(Y_test['label'],test_predictions_word2vec_svc))"
   ]
  },
  {
   "cell_type": "code",
   "execution_count": null,
   "metadata": {},
   "outputs": [],
   "source": []
  }
 ],
 "metadata": {
  "kernelspec": {
   "display_name": "Python 3",
   "language": "python",
   "name": "python3"
  },
  "language_info": {
   "codemirror_mode": {
    "name": "ipython",
    "version": 3
   },
   "file_extension": ".py",
   "mimetype": "text/x-python",
   "name": "python",
   "nbconvert_exporter": "python",
   "pygments_lexer": "ipython3",
   "version": "3.8.5"
  }
 },
 "nbformat": 4,
 "nbformat_minor": 4
}
