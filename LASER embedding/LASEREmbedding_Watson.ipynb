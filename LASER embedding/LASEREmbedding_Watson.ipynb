{
  "nbformat": 4,
  "nbformat_minor": 0,
  "metadata": {
    "colab": {
      "name": "LASEREmbedding-Watson.ipynb",
      "provenance": [],
      "collapsed_sections": []
    },
    "kernelspec": {
      "name": "python3",
      "display_name": "Python 3"
    },
    "language_info": {
      "name": "python"
    },
    "accelerator": "GPU"
  },
  "cells": [
    {
      "cell_type": "code",
      "metadata": {
        "id": "TK-kwzChTnyK"
      },
      "source": [
        "#Import neccesary packages\n",
        "import pandas as pd\n",
        "import numpy as np\n",
        "from sklearn.model_selection import train_test_split"
      ],
      "execution_count": 2,
      "outputs": []
    },
    {
      "cell_type": "code",
      "metadata": {
        "colab": {
          "base_uri": "https://localhost:8080/"
        },
        "id": "J1T6-OtYUF74",
        "outputId": "e695ec79-08c2-4e57-c346-5d163e46d2c5"
      },
      "source": [
        "#Install LASER embedding package\n",
        "!pip install laserembeddings"
      ],
      "execution_count": 1,
      "outputs": [
        {
          "output_type": "stream",
          "text": [
            "Collecting laserembeddings\n",
            "  Downloading https://files.pythonhosted.org/packages/7c/19/a16112d4ab9b4ab3933e86f950f882270e30695a286c87877fe846976295/laserembeddings-1.1.1-py3-none-any.whl\n",
            "Collecting transliterate==1.10.2\n",
            "\u001b[?25l  Downloading https://files.pythonhosted.org/packages/a1/6e/9a9d597dbdd6d0172427c8cc07c35736471e631060df9e59eeb87687f817/transliterate-1.10.2-py2.py3-none-any.whl (45kB)\n",
            "\r\u001b[K     |███████▏                        | 10kB 25.8MB/s eta 0:00:01\r\u001b[K     |██████████████▎                 | 20kB 29.4MB/s eta 0:00:01\r\u001b[K     |█████████████████████▌          | 30kB 30.0MB/s eta 0:00:01\r\u001b[K     |████████████████████████████▋   | 40kB 32.2MB/s eta 0:00:01\r\u001b[K     |████████████████████████████████| 51kB 7.3MB/s \n",
            "\u001b[?25hRequirement already satisfied: torch<2.0.0,>=1.0.1.post2 in /usr/local/lib/python3.7/dist-packages (from laserembeddings) (1.8.1+cu101)\n",
            "Requirement already satisfied: numpy<2.0.0,>=1.15.4 in /usr/local/lib/python3.7/dist-packages (from laserembeddings) (1.19.5)\n",
            "Collecting sacremoses==0.0.35\n",
            "\u001b[?25l  Downloading https://files.pythonhosted.org/packages/1f/8e/ed5364a06a9ba720fddd9820155cc57300d28f5f43a6fd7b7e817177e642/sacremoses-0.0.35.tar.gz (859kB)\n",
            "\u001b[K     |████████████████████████████████| 860kB 34.8MB/s \n",
            "\u001b[?25hCollecting subword-nmt<0.4.0,>=0.3.6\n",
            "  Downloading https://files.pythonhosted.org/packages/74/60/6600a7bc09e7ab38bc53a48a20d8cae49b837f93f5842a41fe513a694912/subword_nmt-0.3.7-py2.py3-none-any.whl\n",
            "Requirement already satisfied: six>=1.1.0 in /usr/local/lib/python3.7/dist-packages (from transliterate==1.10.2->laserembeddings) (1.15.0)\n",
            "Requirement already satisfied: typing-extensions in /usr/local/lib/python3.7/dist-packages (from torch<2.0.0,>=1.0.1.post2->laserembeddings) (3.7.4.3)\n",
            "Requirement already satisfied: click in /usr/local/lib/python3.7/dist-packages (from sacremoses==0.0.35->laserembeddings) (7.1.2)\n",
            "Requirement already satisfied: joblib in /usr/local/lib/python3.7/dist-packages (from sacremoses==0.0.35->laserembeddings) (1.0.1)\n",
            "Requirement already satisfied: tqdm in /usr/local/lib/python3.7/dist-packages (from sacremoses==0.0.35->laserembeddings) (4.41.1)\n",
            "Building wheels for collected packages: sacremoses\n",
            "  Building wheel for sacremoses (setup.py) ... \u001b[?25l\u001b[?25hdone\n",
            "  Created wheel for sacremoses: filename=sacremoses-0.0.35-cp37-none-any.whl size=883999 sha256=563504d364a107fa9be9460a32e3136e56dae6282ad8cef9dfe0322f104e790e\n",
            "  Stored in directory: /root/.cache/pip/wheels/63/2a/db/63e2909042c634ef551d0d9ac825b2b0b32dede4a6d87ddc94\n",
            "Successfully built sacremoses\n",
            "Installing collected packages: transliterate, sacremoses, subword-nmt, laserembeddings\n",
            "Successfully installed laserembeddings-1.1.1 sacremoses-0.0.35 subword-nmt-0.3.7 transliterate-1.10.2\n"
          ],
          "name": "stdout"
        }
      ]
    },
    {
      "cell_type": "code",
      "metadata": {
        "colab": {
          "base_uri": "https://localhost:8080/"
        },
        "id": "VttnsPXiTEQA",
        "outputId": "37a598cb-1eca-4da3-e6bf-db53e7fccad1"
      },
      "source": [
        "from google.colab import drive\n",
        "drive.mount('/gdrive')"
      ],
      "execution_count": 3,
      "outputs": [
        {
          "output_type": "stream",
          "text": [
            "Mounted at /gdrive\n"
          ],
          "name": "stdout"
        }
      ]
    },
    {
      "cell_type": "code",
      "metadata": {
        "colab": {
          "base_uri": "https://localhost:8080/",
          "height": 206
        },
        "id": "BNKvIY9jTkCb",
        "outputId": "822d420c-53d8-4aba-9d67-57874e5263e0"
      },
      "source": [
        "raw_data = pd.read_csv('/gdrive/MyDrive/CMPE257_MachineLearning/Lab3/train.csv')\n",
        "raw_data.head()"
      ],
      "execution_count": 4,
      "outputs": [
        {
          "output_type": "execute_result",
          "data": {
            "text/html": [
              "<div>\n",
              "<style scoped>\n",
              "    .dataframe tbody tr th:only-of-type {\n",
              "        vertical-align: middle;\n",
              "    }\n",
              "\n",
              "    .dataframe tbody tr th {\n",
              "        vertical-align: top;\n",
              "    }\n",
              "\n",
              "    .dataframe thead th {\n",
              "        text-align: right;\n",
              "    }\n",
              "</style>\n",
              "<table border=\"1\" class=\"dataframe\">\n",
              "  <thead>\n",
              "    <tr style=\"text-align: right;\">\n",
              "      <th></th>\n",
              "      <th>id</th>\n",
              "      <th>premise</th>\n",
              "      <th>hypothesis</th>\n",
              "      <th>lang_abv</th>\n",
              "      <th>language</th>\n",
              "      <th>label</th>\n",
              "    </tr>\n",
              "  </thead>\n",
              "  <tbody>\n",
              "    <tr>\n",
              "      <th>0</th>\n",
              "      <td>5130fd2cb5</td>\n",
              "      <td>and these comments were considered in formulat...</td>\n",
              "      <td>The rules developed in the interim were put to...</td>\n",
              "      <td>en</td>\n",
              "      <td>English</td>\n",
              "      <td>0</td>\n",
              "    </tr>\n",
              "    <tr>\n",
              "      <th>1</th>\n",
              "      <td>5b72532a0b</td>\n",
              "      <td>These are issues that we wrestle with in pract...</td>\n",
              "      <td>Practice groups are not permitted to work on t...</td>\n",
              "      <td>en</td>\n",
              "      <td>English</td>\n",
              "      <td>2</td>\n",
              "    </tr>\n",
              "    <tr>\n",
              "      <th>2</th>\n",
              "      <td>3931fbe82a</td>\n",
              "      <td>Des petites choses comme celles-là font une di...</td>\n",
              "      <td>J'essayais d'accomplir quelque chose.</td>\n",
              "      <td>fr</td>\n",
              "      <td>French</td>\n",
              "      <td>0</td>\n",
              "    </tr>\n",
              "    <tr>\n",
              "      <th>3</th>\n",
              "      <td>5622f0c60b</td>\n",
              "      <td>you know they can't really defend themselves l...</td>\n",
              "      <td>They can't defend themselves because of their ...</td>\n",
              "      <td>en</td>\n",
              "      <td>English</td>\n",
              "      <td>0</td>\n",
              "    </tr>\n",
              "    <tr>\n",
              "      <th>4</th>\n",
              "      <td>86aaa48b45</td>\n",
              "      <td>ในการเล่นบทบาทสมมุติก็เช่นกัน โอกาสที่จะได้แสด...</td>\n",
              "      <td>เด็กสามารถเห็นได้ว่าชาติพันธุ์แตกต่างกันอย่างไร</td>\n",
              "      <td>th</td>\n",
              "      <td>Thai</td>\n",
              "      <td>1</td>\n",
              "    </tr>\n",
              "  </tbody>\n",
              "</table>\n",
              "</div>"
            ],
            "text/plain": [
              "           id  ... label\n",
              "0  5130fd2cb5  ...     0\n",
              "1  5b72532a0b  ...     2\n",
              "2  3931fbe82a  ...     0\n",
              "3  5622f0c60b  ...     0\n",
              "4  86aaa48b45  ...     1\n",
              "\n",
              "[5 rows x 6 columns]"
            ]
          },
          "metadata": {
            "tags": []
          },
          "execution_count": 4
        }
      ]
    },
    {
      "cell_type": "code",
      "metadata": {
        "colab": {
          "base_uri": "https://localhost:8080/",
          "height": 206
        },
        "id": "AS1hJfpfT8Wb",
        "outputId": "bbeecc23-e122-4c9f-d37a-664f957c4be8"
      },
      "source": [
        "raw_test = pd.read_csv('/gdrive/MyDrive/CMPE257_MachineLearning/Lab3/test.csv')\n",
        "raw_combined = pd.concat([raw_data, raw_test])\n",
        "raw_combined.head()"
      ],
      "execution_count": 5,
      "outputs": [
        {
          "output_type": "execute_result",
          "data": {
            "text/html": [
              "<div>\n",
              "<style scoped>\n",
              "    .dataframe tbody tr th:only-of-type {\n",
              "        vertical-align: middle;\n",
              "    }\n",
              "\n",
              "    .dataframe tbody tr th {\n",
              "        vertical-align: top;\n",
              "    }\n",
              "\n",
              "    .dataframe thead th {\n",
              "        text-align: right;\n",
              "    }\n",
              "</style>\n",
              "<table border=\"1\" class=\"dataframe\">\n",
              "  <thead>\n",
              "    <tr style=\"text-align: right;\">\n",
              "      <th></th>\n",
              "      <th>id</th>\n",
              "      <th>premise</th>\n",
              "      <th>hypothesis</th>\n",
              "      <th>lang_abv</th>\n",
              "      <th>language</th>\n",
              "      <th>label</th>\n",
              "    </tr>\n",
              "  </thead>\n",
              "  <tbody>\n",
              "    <tr>\n",
              "      <th>0</th>\n",
              "      <td>5130fd2cb5</td>\n",
              "      <td>and these comments were considered in formulat...</td>\n",
              "      <td>The rules developed in the interim were put to...</td>\n",
              "      <td>en</td>\n",
              "      <td>English</td>\n",
              "      <td>0.0</td>\n",
              "    </tr>\n",
              "    <tr>\n",
              "      <th>1</th>\n",
              "      <td>5b72532a0b</td>\n",
              "      <td>These are issues that we wrestle with in pract...</td>\n",
              "      <td>Practice groups are not permitted to work on t...</td>\n",
              "      <td>en</td>\n",
              "      <td>English</td>\n",
              "      <td>2.0</td>\n",
              "    </tr>\n",
              "    <tr>\n",
              "      <th>2</th>\n",
              "      <td>3931fbe82a</td>\n",
              "      <td>Des petites choses comme celles-là font une di...</td>\n",
              "      <td>J'essayais d'accomplir quelque chose.</td>\n",
              "      <td>fr</td>\n",
              "      <td>French</td>\n",
              "      <td>0.0</td>\n",
              "    </tr>\n",
              "    <tr>\n",
              "      <th>3</th>\n",
              "      <td>5622f0c60b</td>\n",
              "      <td>you know they can't really defend themselves l...</td>\n",
              "      <td>They can't defend themselves because of their ...</td>\n",
              "      <td>en</td>\n",
              "      <td>English</td>\n",
              "      <td>0.0</td>\n",
              "    </tr>\n",
              "    <tr>\n",
              "      <th>4</th>\n",
              "      <td>86aaa48b45</td>\n",
              "      <td>ในการเล่นบทบาทสมมุติก็เช่นกัน โอกาสที่จะได้แสด...</td>\n",
              "      <td>เด็กสามารถเห็นได้ว่าชาติพันธุ์แตกต่างกันอย่างไร</td>\n",
              "      <td>th</td>\n",
              "      <td>Thai</td>\n",
              "      <td>1.0</td>\n",
              "    </tr>\n",
              "  </tbody>\n",
              "</table>\n",
              "</div>"
            ],
            "text/plain": [
              "           id  ... label\n",
              "0  5130fd2cb5  ...   0.0\n",
              "1  5b72532a0b  ...   2.0\n",
              "2  3931fbe82a  ...   0.0\n",
              "3  5622f0c60b  ...   0.0\n",
              "4  86aaa48b45  ...   1.0\n",
              "\n",
              "[5 rows x 6 columns]"
            ]
          },
          "metadata": {
            "tags": []
          },
          "execution_count": 5
        }
      ]
    },
    {
      "cell_type": "code",
      "metadata": {
        "id": "kCTR2sypURgS"
      },
      "source": [
        "#Install other languages that do not come with the standard LASER package\n",
        "import os\n",
        "for l in raw_combined.lang_abv.unique():\n",
        "    os.system(f'!pip install laserembeddings[{l}]')"
      ],
      "execution_count": null,
      "outputs": []
    },
    {
      "cell_type": "code",
      "metadata": {
        "colab": {
          "base_uri": "https://localhost:8080/"
        },
        "id": "ca5aZeYHUsG5",
        "outputId": "59a6711f-5c80-45e1-e5dd-c753b76e8cbe"
      },
      "source": [
        "#Download the pre-train model for LASER embedding\n",
        "!python -m laserembeddings download-models"
      ],
      "execution_count": null,
      "outputs": [
        {
          "output_type": "stream",
          "text": [
            "Downloading models into /usr/local/lib/python3.7/dist-packages/laserembeddings/data\n",
            "\n",
            "✅   Downloaded https://dl.fbaipublicfiles.com/laser/models/93langs.fcodes    \n",
            "✅   Downloaded https://dl.fbaipublicfiles.com/laser/models/93langs.fvocab    \n",
            "✅   Downloaded https://dl.fbaipublicfiles.com/laser/models/bilstm.93langs.2018-12-26.pt    \n",
            "\n",
            "✨ You're all set!\n"
          ],
          "name": "stdout"
        }
      ]
    },
    {
      "cell_type": "code",
      "metadata": {
        "id": "89qe21LcVeo4"
      },
      "source": [
        "#Init LASER & Embed the sentences\n",
        "from laserembeddings import Laser\n",
        "laser = Laser()\n",
        "\n",
        "vectors = []\n",
        "\n",
        "for i, r in raw_combined.iterrows():\n",
        "    vectors.append(\n",
        "        np.concatenate(\n",
        "            (\n",
        "                laser.embed_sentences(r.hypothesis, lang=r.lang_abv)[0], \n",
        "                laser.embed_sentences(r.premise, lang=r.lang_abv)[0],\n",
        "            )\n",
        "        )\n",
        "    )\n",
        "vectors = np.array(vectors)"
      ],
      "execution_count": null,
      "outputs": []
    },
    {
      "cell_type": "code",
      "metadata": {
        "id": "qZZGll-J1_my"
      },
      "source": [
        "#Load the embedded vectors that is pickled so that we don't have to waste time re-embed the whole dataset\n",
        "import pickle\n",
        "pickle_in=open(\"/gdrive/MyDrive/CMPE257_MachineLearning/Lab3/vector.pickle\",\"rb\")\n",
        "vectors = pickle.load(pickle_in)\n",
        "pickle_in.close()"
      ],
      "execution_count": 6,
      "outputs": []
    },
    {
      "cell_type": "code",
      "metadata": {
        "colab": {
          "base_uri": "https://localhost:8080/"
        },
        "id": "F-36j8FFkPtl",
        "outputId": "70a1f69d-a667-499f-c08b-92333be56d1c"
      },
      "source": [
        "#This is how the embedded vectors look like\n",
        "vectors"
      ],
      "execution_count": null,
      "outputs": [
        {
          "output_type": "execute_result",
          "data": {
            "text/plain": [
              "array([[ 7.2747874e-03,  1.3423607e-03, -5.0730145e-05, ...,\n",
              "         1.2217250e-02,  9.3295351e-03,  3.4985673e-02],\n",
              "       [ 1.0637566e-02, -1.2596670e-04,  9.6913980e-04, ...,\n",
              "         1.2963601e-02,  1.1006403e-02,  2.1777369e-02],\n",
              "       [ 7.9386216e-03,  1.5886479e-05,  1.4029618e-04, ...,\n",
              "         6.6946782e-03,  2.1546386e-02,  2.7466459e-02],\n",
              "       ...,\n",
              "       [ 3.0137517e-03, -4.4617351e-04,  7.3791202e-04, ...,\n",
              "         1.8130897e-02,  1.8045582e-02,  1.7430648e-02],\n",
              "       [ 7.7674584e-03, -4.2668344e-06, -1.4443031e-04, ...,\n",
              "         8.3482042e-03,  5.7175830e-03,  1.3380240e-02],\n",
              "       [ 4.9003786e-03, -4.5182951e-05,  8.9579378e-04, ...,\n",
              "         1.9976727e-03,  1.0322244e-02,  3.3516090e-02]], dtype=float32)"
            ]
          },
          "metadata": {
            "tags": []
          },
          "execution_count": 7
        }
      ]
    },
    {
      "cell_type": "code",
      "metadata": {
        "id": "gQjq-b5lWOwl"
      },
      "source": [
        "#Prepare data for training and testing since we combined them together earlier to embed\n",
        "\n",
        "X = vectors[:len(raw_data)]\n",
        "y = raw_data.label.to_numpy()\n",
        "test = vectors[len(raw_data):]\n",
        "X_train, X_test, y_train, y_test = train_test_split(X, y, test_size=0.3, random_state=17)"
      ],
      "execution_count": 7,
      "outputs": []
    },
    {
      "cell_type": "code",
      "metadata": {
        "id": "Nfw0h9WmnrCl"
      },
      "source": [
        "#We tranform the y using OneHotEncoder to feed into the SoftMax layer\n",
        "from keras.utils import to_categorical\n",
        "y_train = to_categorical(y_train, 3)\n",
        "y_test = to_categorical(y_test, 3)"
      ],
      "execution_count": 8,
      "outputs": []
    },
    {
      "cell_type": "code",
      "metadata": {
        "colab": {
          "base_uri": "https://localhost:8080/"
        },
        "id": "8I3qhK2mqhwR",
        "outputId": "915aaa19-bf05-4dcf-bedf-d7472d62260d"
      },
      "source": [
        "X_train.shape"
      ],
      "execution_count": null,
      "outputs": [
        {
          "output_type": "execute_result",
          "data": {
            "text/plain": [
              "(8484, 2048)"
            ]
          },
          "metadata": {
            "tags": []
          },
          "execution_count": 149
        }
      ]
    },
    {
      "cell_type": "code",
      "metadata": {
        "colab": {
          "base_uri": "https://localhost:8080/"
        },
        "id": "XP9HgB5p5AYT",
        "outputId": "ff1d7b10-ecc4-48a0-d98a-3f1d4ed3a14d"
      },
      "source": [
        "y_train.shape"
      ],
      "execution_count": null,
      "outputs": [
        {
          "output_type": "execute_result",
          "data": {
            "text/plain": [
              "(8484,)"
            ]
          },
          "metadata": {
            "tags": []
          },
          "execution_count": 153
        }
      ]
    },
    {
      "cell_type": "code",
      "metadata": {
        "colab": {
          "base_uri": "https://localhost:8080/"
        },
        "id": "KiG_Q4ooVWdX",
        "outputId": "d82d54c8-6e0d-4dbf-ec10-a38cf81d7169"
      },
      "source": [
        "#First attempt: Using a basic Naive Bayes model\n",
        "from sklearn.naive_bayes import GaussianNB\n",
        "classifier = GaussianNB()\n",
        "classifier.fit(X_train, y_train)"
      ],
      "execution_count": null,
      "outputs": [
        {
          "output_type": "execute_result",
          "data": {
            "text/plain": [
              "GaussianNB(priors=None, var_smoothing=1e-09)"
            ]
          },
          "metadata": {
            "tags": []
          },
          "execution_count": 182
        }
      ]
    },
    {
      "cell_type": "code",
      "metadata": {
        "id": "EFuTleZDVzOS"
      },
      "source": [
        "# predict class\n",
        "y_pred = classifier.predict(X_test)"
      ],
      "execution_count": null,
      "outputs": []
    },
    {
      "cell_type": "code",
      "metadata": {
        "colab": {
          "base_uri": "https://localhost:8080/"
        },
        "id": "eHh0JyfzV0bI",
        "outputId": "1bfb6a9b-f01c-4085-b669-7acb7814adbf"
      },
      "source": [
        "# Confusion matrix\n",
        "from sklearn.metrics import confusion_matrix, classification_report, accuracy_score\n",
        "cm = confusion_matrix(y_test, y_pred)\n",
        "cr = classification_report(y_test, y_pred)\n",
        "\n",
        "accuracy = accuracy_score(y_test, y_pred)\n",
        "print(cm)\n",
        "print(cr)\n",
        "print(accuracy)"
      ],
      "execution_count": null,
      "outputs": [
        {
          "output_type": "stream",
          "text": [
            "[[344 520 414]\n",
            " [214 639 318]\n",
            " [184 395 608]]\n",
            "              precision    recall  f1-score   support\n",
            "\n",
            "           0       0.46      0.27      0.34      1278\n",
            "           1       0.41      0.55      0.47      1171\n",
            "           2       0.45      0.51      0.48      1187\n",
            "\n",
            "    accuracy                           0.44      3636\n",
            "   macro avg       0.44      0.44      0.43      3636\n",
            "weighted avg       0.44      0.44      0.43      3636\n",
            "\n",
            "0.4375687568756876\n"
          ],
          "name": "stdout"
        }
      ]
    },
    {
      "cell_type": "code",
      "metadata": {
        "colab": {
          "base_uri": "https://localhost:8080/"
        },
        "id": "zIk9CMgrko5t",
        "outputId": "1b95fc8b-40fa-4389-9f8d-bc79476341ce"
      },
      "source": [
        "#Attempt 2: Init NN model with many deep layers\n",
        "\n",
        "from keras import layers\n",
        "from keras import Sequential\n",
        "from keras.layers import Dense, Dropout, LeakyReLU, BatchNormalization\n",
        "input_dim = X_train.shape[1]\n",
        "\n",
        "model=Sequential()\n",
        "model.add(Dense(2048, input_dim = input_dim, activation=\"relu\"))\n",
        "model.add(Dropout(0.25))\n",
        "model.add(BatchNormalization())\n",
        "model.add(Dense(2048, input_dim = input_dim, activation=\"relu\"))\n",
        "model.add(Dropout(0.25))\n",
        "model.add(BatchNormalization())\n",
        "model.add(Dense(512, input_dim = input_dim, activation=\"relu\"))\n",
        "model.add(Dropout(0.25))\n",
        "model.add(BatchNormalization())\n",
        "model.add(Dense(256, input_dim = input_dim, activation=\"relu\"))\n",
        "model.add(Dropout(0.25))\n",
        "model.add(BatchNormalization())\n",
        "model.add(Dense(128, input_dim = input_dim, activation=\"relu\"))\n",
        "model.add(Dropout(0.25))\n",
        "model.add(BatchNormalization())\n",
        "model.add(Dense(64, input_dim = input_dim, activation=\"relu\"))\n",
        "model.add(Dropout(0.25))\n",
        "model.add(BatchNormalization())\n",
        "model.add(Dense(3, activation='softmax', input_dim = input_dim))\n",
        "model.compile(loss='categorical_crossentropy', optimizer='adam', metrics=['accuracy'])\n",
        "print(model.summary())"
      ],
      "execution_count": null,
      "outputs": [
        {
          "output_type": "stream",
          "text": [
            "Model: \"sequential_5\"\n",
            "_________________________________________________________________\n",
            "Layer (type)                 Output Shape              Param #   \n",
            "=================================================================\n",
            "dense_35 (Dense)             (None, 2048)              4196352   \n",
            "_________________________________________________________________\n",
            "dropout_30 (Dropout)         (None, 2048)              0         \n",
            "_________________________________________________________________\n",
            "batch_normalization_30 (Batc (None, 2048)              8192      \n",
            "_________________________________________________________________\n",
            "dense_36 (Dense)             (None, 2048)              4196352   \n",
            "_________________________________________________________________\n",
            "dropout_31 (Dropout)         (None, 2048)              0         \n",
            "_________________________________________________________________\n",
            "batch_normalization_31 (Batc (None, 2048)              8192      \n",
            "_________________________________________________________________\n",
            "dense_37 (Dense)             (None, 512)               1049088   \n",
            "_________________________________________________________________\n",
            "dropout_32 (Dropout)         (None, 512)               0         \n",
            "_________________________________________________________________\n",
            "batch_normalization_32 (Batc (None, 512)               2048      \n",
            "_________________________________________________________________\n",
            "dense_38 (Dense)             (None, 256)               131328    \n",
            "_________________________________________________________________\n",
            "dropout_33 (Dropout)         (None, 256)               0         \n",
            "_________________________________________________________________\n",
            "batch_normalization_33 (Batc (None, 256)               1024      \n",
            "_________________________________________________________________\n",
            "dense_39 (Dense)             (None, 128)               32896     \n",
            "_________________________________________________________________\n",
            "dropout_34 (Dropout)         (None, 128)               0         \n",
            "_________________________________________________________________\n",
            "batch_normalization_34 (Batc (None, 128)               512       \n",
            "_________________________________________________________________\n",
            "dense_40 (Dense)             (None, 64)                8256      \n",
            "_________________________________________________________________\n",
            "dropout_35 (Dropout)         (None, 64)                0         \n",
            "_________________________________________________________________\n",
            "batch_normalization_35 (Batc (None, 64)                256       \n",
            "_________________________________________________________________\n",
            "dense_41 (Dense)             (None, 3)                 195       \n",
            "=================================================================\n",
            "Total params: 9,634,691\n",
            "Trainable params: 9,624,579\n",
            "Non-trainable params: 10,112\n",
            "_________________________________________________________________\n",
            "None\n"
          ],
          "name": "stdout"
        }
      ]
    },
    {
      "cell_type": "code",
      "metadata": {
        "colab": {
          "base_uri": "https://localhost:8080/"
        },
        "id": "dPy0VNH-C5CX",
        "outputId": "97e31a11-1a57-4f9a-b82c-fa2911b27e0a"
      },
      "source": [
        "# Evaluate the model\n",
        "#The accuracy is not that much different from the basic Naieve Bayes model\n",
        "loss, accuracy = model.evaluate(X_test, y_test)"
      ],
      "execution_count": null,
      "outputs": [
        {
          "output_type": "stream",
          "text": [
            "114/114 [==============================] - 0s 3ms/step - loss: 4.7152 - accuracy: 0.4607\n"
          ],
          "name": "stdout"
        }
      ]
    },
    {
      "cell_type": "code",
      "metadata": {
        "colab": {
          "base_uri": "https://localhost:8080/"
        },
        "id": "0hogMkC7Cz0s",
        "outputId": "d2acd02c-869f-4729-a488-cb8c55a929b0"
      },
      "source": [
        "#Attempt 3: simplify the model as we trust the LASER embedding alrady mapped the sentences into the same neighborhood, thus we don;t have to overcomplicated our classifier\n",
        "\n",
        "from keras import layers\n",
        "from keras import Sequential\n",
        "from keras.layers import Dense\n",
        "input_dim = X_train.shape[1]\n",
        "\n",
        "model=Sequential()\n",
        "model.add(Dense(3, activation='softmax', input_dim = input_dim))\n",
        "model.compile(loss='categorical_crossentropy', optimizer='adam', metrics=['accuracy'])\n",
        "print(model.summary())"
      ],
      "execution_count": 16,
      "outputs": [
        {
          "output_type": "stream",
          "text": [
            "Model: \"sequential\"\n",
            "_________________________________________________________________\n",
            "Layer (type)                 Output Shape              Param #   \n",
            "=================================================================\n",
            "dense (Dense)                (None, 3)                 6147      \n",
            "=================================================================\n",
            "Total params: 6,147\n",
            "Trainable params: 6,147\n",
            "Non-trainable params: 0\n",
            "_________________________________________________________________\n",
            "None\n"
          ],
          "name": "stdout"
        }
      ]
    },
    {
      "cell_type": "code",
      "metadata": {
        "colab": {
          "base_uri": "https://localhost:8080/"
        },
        "id": "4b1jwExTmAxt",
        "outputId": "b5199794-7d0c-4944-d02c-3637a762fae4"
      },
      "source": [
        "#Train the model\n",
        "model.fit(X_train, y_train, batch_size = 512 ,epochs=100, validation_data=(X_test, y_test))"
      ],
      "execution_count": 17,
      "outputs": [
        {
          "output_type": "stream",
          "text": [
            "Epoch 1/100\n",
            "17/17 [==============================] - 1s 16ms/step - loss: 1.0982 - accuracy: 0.3436 - val_loss: 1.0952 - val_accuracy: 0.3740\n",
            "Epoch 2/100\n",
            "17/17 [==============================] - 0s 8ms/step - loss: 1.0927 - accuracy: 0.3844 - val_loss: 1.0914 - val_accuracy: 0.4139\n",
            "Epoch 3/100\n",
            "17/17 [==============================] - 0s 7ms/step - loss: 1.0882 - accuracy: 0.4391 - val_loss: 1.0883 - val_accuracy: 0.4266\n",
            "Epoch 4/100\n",
            "17/17 [==============================] - 0s 8ms/step - loss: 1.0844 - accuracy: 0.4578 - val_loss: 1.0856 - val_accuracy: 0.4356\n",
            "Epoch 5/100\n",
            "17/17 [==============================] - 0s 9ms/step - loss: 1.0793 - accuracy: 0.4930 - val_loss: 1.0829 - val_accuracy: 0.4345\n",
            "Epoch 6/100\n",
            "17/17 [==============================] - 0s 7ms/step - loss: 1.0754 - accuracy: 0.4815 - val_loss: 1.0809 - val_accuracy: 0.4450\n",
            "Epoch 7/100\n",
            "17/17 [==============================] - 0s 7ms/step - loss: 1.0727 - accuracy: 0.4880 - val_loss: 1.0783 - val_accuracy: 0.4453\n",
            "Epoch 8/100\n",
            "17/17 [==============================] - 0s 7ms/step - loss: 1.0690 - accuracy: 0.5012 - val_loss: 1.0759 - val_accuracy: 0.4494\n",
            "Epoch 9/100\n",
            "17/17 [==============================] - 0s 7ms/step - loss: 1.0655 - accuracy: 0.5042 - val_loss: 1.0737 - val_accuracy: 0.4549\n",
            "Epoch 10/100\n",
            "17/17 [==============================] - 0s 8ms/step - loss: 1.0636 - accuracy: 0.5061 - val_loss: 1.0718 - val_accuracy: 0.4535\n",
            "Epoch 11/100\n",
            "17/17 [==============================] - 0s 7ms/step - loss: 1.0582 - accuracy: 0.5161 - val_loss: 1.0698 - val_accuracy: 0.4609\n",
            "Epoch 12/100\n",
            "17/17 [==============================] - 0s 7ms/step - loss: 1.0539 - accuracy: 0.5246 - val_loss: 1.0682 - val_accuracy: 0.4519\n",
            "Epoch 13/100\n",
            "17/17 [==============================] - 0s 8ms/step - loss: 1.0518 - accuracy: 0.5094 - val_loss: 1.0663 - val_accuracy: 0.4593\n",
            "Epoch 14/100\n",
            "17/17 [==============================] - 0s 8ms/step - loss: 1.0490 - accuracy: 0.5211 - val_loss: 1.0645 - val_accuracy: 0.4612\n",
            "Epoch 15/100\n",
            "17/17 [==============================] - 0s 8ms/step - loss: 1.0462 - accuracy: 0.5232 - val_loss: 1.0631 - val_accuracy: 0.4552\n",
            "Epoch 16/100\n",
            "17/17 [==============================] - 0s 7ms/step - loss: 1.0442 - accuracy: 0.5139 - val_loss: 1.0610 - val_accuracy: 0.4615\n",
            "Epoch 17/100\n",
            "17/17 [==============================] - 0s 7ms/step - loss: 1.0417 - accuracy: 0.5353 - val_loss: 1.0600 - val_accuracy: 0.4590\n",
            "Epoch 18/100\n",
            "17/17 [==============================] - 0s 7ms/step - loss: 1.0401 - accuracy: 0.5186 - val_loss: 1.0581 - val_accuracy: 0.4648\n",
            "Epoch 19/100\n",
            "17/17 [==============================] - 0s 8ms/step - loss: 1.0342 - accuracy: 0.5400 - val_loss: 1.0565 - val_accuracy: 0.4670\n",
            "Epoch 20/100\n",
            "17/17 [==============================] - 0s 7ms/step - loss: 1.0339 - accuracy: 0.5367 - val_loss: 1.0551 - val_accuracy: 0.4659\n",
            "Epoch 21/100\n",
            "17/17 [==============================] - 0s 7ms/step - loss: 1.0327 - accuracy: 0.5302 - val_loss: 1.0538 - val_accuracy: 0.4686\n",
            "Epoch 22/100\n",
            "17/17 [==============================] - 0s 7ms/step - loss: 1.0304 - accuracy: 0.5376 - val_loss: 1.0527 - val_accuracy: 0.4648\n",
            "Epoch 23/100\n",
            "17/17 [==============================] - 0s 7ms/step - loss: 1.0254 - accuracy: 0.5399 - val_loss: 1.0511 - val_accuracy: 0.4706\n",
            "Epoch 24/100\n",
            "17/17 [==============================] - 0s 7ms/step - loss: 1.0243 - accuracy: 0.5449 - val_loss: 1.0500 - val_accuracy: 0.4678\n",
            "Epoch 25/100\n",
            "17/17 [==============================] - 0s 7ms/step - loss: 1.0248 - accuracy: 0.5392 - val_loss: 1.0486 - val_accuracy: 0.4717\n",
            "Epoch 26/100\n",
            "17/17 [==============================] - 0s 7ms/step - loss: 1.0212 - accuracy: 0.5425 - val_loss: 1.0474 - val_accuracy: 0.4722\n",
            "Epoch 27/100\n",
            "17/17 [==============================] - 0s 8ms/step - loss: 1.0168 - accuracy: 0.5480 - val_loss: 1.0463 - val_accuracy: 0.4703\n",
            "Epoch 28/100\n",
            "17/17 [==============================] - 0s 7ms/step - loss: 1.0192 - accuracy: 0.5362 - val_loss: 1.0451 - val_accuracy: 0.4750\n",
            "Epoch 29/100\n",
            "17/17 [==============================] - 0s 8ms/step - loss: 1.0143 - accuracy: 0.5483 - val_loss: 1.0438 - val_accuracy: 0.4763\n",
            "Epoch 30/100\n",
            "17/17 [==============================] - 0s 7ms/step - loss: 1.0099 - accuracy: 0.5536 - val_loss: 1.0431 - val_accuracy: 0.4739\n",
            "Epoch 31/100\n",
            "17/17 [==============================] - 0s 8ms/step - loss: 1.0082 - accuracy: 0.5515 - val_loss: 1.0419 - val_accuracy: 0.4741\n",
            "Epoch 32/100\n",
            "17/17 [==============================] - 0s 7ms/step - loss: 1.0077 - accuracy: 0.5562 - val_loss: 1.0405 - val_accuracy: 0.4783\n",
            "Epoch 33/100\n",
            "17/17 [==============================] - 0s 7ms/step - loss: 1.0079 - accuracy: 0.5492 - val_loss: 1.0398 - val_accuracy: 0.4766\n",
            "Epoch 34/100\n",
            "17/17 [==============================] - 0s 7ms/step - loss: 1.0023 - accuracy: 0.5584 - val_loss: 1.0386 - val_accuracy: 0.4794\n",
            "Epoch 35/100\n",
            "17/17 [==============================] - 0s 7ms/step - loss: 1.0032 - accuracy: 0.5543 - val_loss: 1.0379 - val_accuracy: 0.4780\n",
            "Epoch 36/100\n",
            "17/17 [==============================] - 0s 7ms/step - loss: 0.9991 - accuracy: 0.5672 - val_loss: 1.0368 - val_accuracy: 0.4802\n",
            "Epoch 37/100\n",
            "17/17 [==============================] - 0s 7ms/step - loss: 0.9989 - accuracy: 0.5568 - val_loss: 1.0359 - val_accuracy: 0.4816\n",
            "Epoch 38/100\n",
            "17/17 [==============================] - 0s 8ms/step - loss: 0.9970 - accuracy: 0.5554 - val_loss: 1.0348 - val_accuracy: 0.4821\n",
            "Epoch 39/100\n",
            "17/17 [==============================] - 0s 8ms/step - loss: 0.9972 - accuracy: 0.5521 - val_loss: 1.0345 - val_accuracy: 0.4783\n",
            "Epoch 40/100\n",
            "17/17 [==============================] - 0s 7ms/step - loss: 0.9944 - accuracy: 0.5594 - val_loss: 1.0330 - val_accuracy: 0.4868\n",
            "Epoch 41/100\n",
            "17/17 [==============================] - 0s 8ms/step - loss: 0.9920 - accuracy: 0.5642 - val_loss: 1.0324 - val_accuracy: 0.4827\n",
            "Epoch 42/100\n",
            "17/17 [==============================] - 0s 7ms/step - loss: 0.9904 - accuracy: 0.5628 - val_loss: 1.0316 - val_accuracy: 0.4816\n",
            "Epoch 43/100\n",
            "17/17 [==============================] - 0s 8ms/step - loss: 0.9902 - accuracy: 0.5652 - val_loss: 1.0305 - val_accuracy: 0.4871\n",
            "Epoch 44/100\n",
            "17/17 [==============================] - 0s 7ms/step - loss: 0.9881 - accuracy: 0.5696 - val_loss: 1.0301 - val_accuracy: 0.4821\n",
            "Epoch 45/100\n",
            "17/17 [==============================] - 0s 7ms/step - loss: 0.9879 - accuracy: 0.5633 - val_loss: 1.0290 - val_accuracy: 0.4879\n",
            "Epoch 46/100\n",
            "17/17 [==============================] - 0s 7ms/step - loss: 0.9838 - accuracy: 0.5694 - val_loss: 1.0284 - val_accuracy: 0.4854\n",
            "Epoch 47/100\n",
            "17/17 [==============================] - 0s 8ms/step - loss: 0.9828 - accuracy: 0.5677 - val_loss: 1.0276 - val_accuracy: 0.4868\n",
            "Epoch 48/100\n",
            "17/17 [==============================] - 0s 8ms/step - loss: 0.9836 - accuracy: 0.5627 - val_loss: 1.0270 - val_accuracy: 0.4871\n",
            "Epoch 49/100\n",
            "17/17 [==============================] - 0s 8ms/step - loss: 0.9864 - accuracy: 0.5597 - val_loss: 1.0263 - val_accuracy: 0.4876\n",
            "Epoch 50/100\n",
            "17/17 [==============================] - 0s 8ms/step - loss: 0.9810 - accuracy: 0.5678 - val_loss: 1.0256 - val_accuracy: 0.4912\n",
            "Epoch 51/100\n",
            "17/17 [==============================] - 0s 8ms/step - loss: 0.9765 - accuracy: 0.5726 - val_loss: 1.0250 - val_accuracy: 0.4898\n",
            "Epoch 52/100\n",
            "17/17 [==============================] - 0s 8ms/step - loss: 0.9727 - accuracy: 0.5759 - val_loss: 1.0242 - val_accuracy: 0.4915\n",
            "Epoch 53/100\n",
            "17/17 [==============================] - 0s 7ms/step - loss: 0.9741 - accuracy: 0.5739 - val_loss: 1.0240 - val_accuracy: 0.4904\n",
            "Epoch 54/100\n",
            "17/17 [==============================] - 0s 8ms/step - loss: 0.9702 - accuracy: 0.5751 - val_loss: 1.0229 - val_accuracy: 0.4931\n",
            "Epoch 55/100\n",
            "17/17 [==============================] - 0s 8ms/step - loss: 0.9669 - accuracy: 0.5832 - val_loss: 1.0225 - val_accuracy: 0.4920\n",
            "Epoch 56/100\n",
            "17/17 [==============================] - 0s 8ms/step - loss: 0.9720 - accuracy: 0.5694 - val_loss: 1.0217 - val_accuracy: 0.4909\n",
            "Epoch 57/100\n",
            "17/17 [==============================] - 0s 7ms/step - loss: 0.9712 - accuracy: 0.5709 - val_loss: 1.0212 - val_accuracy: 0.4917\n",
            "Epoch 58/100\n",
            "17/17 [==============================] - 0s 7ms/step - loss: 0.9696 - accuracy: 0.5759 - val_loss: 1.0207 - val_accuracy: 0.4937\n",
            "Epoch 59/100\n",
            "17/17 [==============================] - 0s 7ms/step - loss: 0.9670 - accuracy: 0.5732 - val_loss: 1.0198 - val_accuracy: 0.4920\n",
            "Epoch 60/100\n",
            "17/17 [==============================] - 0s 8ms/step - loss: 0.9671 - accuracy: 0.5716 - val_loss: 1.0198 - val_accuracy: 0.4906\n",
            "Epoch 61/100\n",
            "17/17 [==============================] - 0s 7ms/step - loss: 0.9634 - accuracy: 0.5726 - val_loss: 1.0189 - val_accuracy: 0.4923\n",
            "Epoch 62/100\n",
            "17/17 [==============================] - 0s 8ms/step - loss: 0.9603 - accuracy: 0.5782 - val_loss: 1.0187 - val_accuracy: 0.4912\n",
            "Epoch 63/100\n",
            "17/17 [==============================] - 0s 8ms/step - loss: 0.9630 - accuracy: 0.5744 - val_loss: 1.0178 - val_accuracy: 0.4948\n",
            "Epoch 64/100\n",
            "17/17 [==============================] - 0s 7ms/step - loss: 0.9621 - accuracy: 0.5720 - val_loss: 1.0175 - val_accuracy: 0.4942\n",
            "Epoch 65/100\n",
            "17/17 [==============================] - 0s 7ms/step - loss: 0.9615 - accuracy: 0.5672 - val_loss: 1.0171 - val_accuracy: 0.4939\n",
            "Epoch 66/100\n",
            "17/17 [==============================] - 0s 8ms/step - loss: 0.9571 - accuracy: 0.5846 - val_loss: 1.0164 - val_accuracy: 0.4964\n",
            "Epoch 67/100\n",
            "17/17 [==============================] - 0s 8ms/step - loss: 0.9575 - accuracy: 0.5777 - val_loss: 1.0163 - val_accuracy: 0.4934\n",
            "Epoch 68/100\n",
            "17/17 [==============================] - 0s 8ms/step - loss: 0.9553 - accuracy: 0.5808 - val_loss: 1.0154 - val_accuracy: 0.4950\n",
            "Epoch 69/100\n",
            "17/17 [==============================] - 0s 8ms/step - loss: 0.9614 - accuracy: 0.5756 - val_loss: 1.0153 - val_accuracy: 0.4950\n",
            "Epoch 70/100\n",
            "17/17 [==============================] - 0s 8ms/step - loss: 0.9532 - accuracy: 0.5791 - val_loss: 1.0145 - val_accuracy: 0.4950\n",
            "Epoch 71/100\n",
            "17/17 [==============================] - 0s 7ms/step - loss: 0.9509 - accuracy: 0.5834 - val_loss: 1.0145 - val_accuracy: 0.4956\n",
            "Epoch 72/100\n",
            "17/17 [==============================] - 0s 8ms/step - loss: 0.9473 - accuracy: 0.5815 - val_loss: 1.0138 - val_accuracy: 0.4970\n",
            "Epoch 73/100\n",
            "17/17 [==============================] - 0s 8ms/step - loss: 0.9513 - accuracy: 0.5819 - val_loss: 1.0134 - val_accuracy: 0.4964\n",
            "Epoch 74/100\n",
            "17/17 [==============================] - 0s 7ms/step - loss: 0.9478 - accuracy: 0.5858 - val_loss: 1.0130 - val_accuracy: 0.4983\n",
            "Epoch 75/100\n",
            "17/17 [==============================] - 0s 8ms/step - loss: 0.9462 - accuracy: 0.5874 - val_loss: 1.0126 - val_accuracy: 0.4983\n",
            "Epoch 76/100\n",
            "17/17 [==============================] - 0s 8ms/step - loss: 0.9460 - accuracy: 0.5852 - val_loss: 1.0122 - val_accuracy: 0.4983\n",
            "Epoch 77/100\n",
            "17/17 [==============================] - 0s 8ms/step - loss: 0.9482 - accuracy: 0.5822 - val_loss: 1.0118 - val_accuracy: 0.4964\n",
            "Epoch 78/100\n",
            "17/17 [==============================] - 0s 8ms/step - loss: 0.9427 - accuracy: 0.5849 - val_loss: 1.0114 - val_accuracy: 0.4983\n",
            "Epoch 79/100\n",
            "17/17 [==============================] - 0s 8ms/step - loss: 0.9504 - accuracy: 0.5742 - val_loss: 1.0112 - val_accuracy: 0.4970\n",
            "Epoch 80/100\n",
            "17/17 [==============================] - 0s 8ms/step - loss: 0.9423 - accuracy: 0.5826 - val_loss: 1.0108 - val_accuracy: 0.4967\n",
            "Epoch 81/100\n",
            "17/17 [==============================] - 0s 7ms/step - loss: 0.9464 - accuracy: 0.5831 - val_loss: 1.0107 - val_accuracy: 0.4989\n",
            "Epoch 82/100\n",
            "17/17 [==============================] - 0s 7ms/step - loss: 0.9433 - accuracy: 0.5800 - val_loss: 1.0101 - val_accuracy: 0.4975\n",
            "Epoch 83/100\n",
            "17/17 [==============================] - 0s 7ms/step - loss: 0.9431 - accuracy: 0.5834 - val_loss: 1.0098 - val_accuracy: 0.4972\n",
            "Epoch 84/100\n",
            "17/17 [==============================] - 0s 7ms/step - loss: 0.9395 - accuracy: 0.5864 - val_loss: 1.0097 - val_accuracy: 0.4994\n",
            "Epoch 85/100\n",
            "17/17 [==============================] - 0s 8ms/step - loss: 0.9407 - accuracy: 0.5832 - val_loss: 1.0092 - val_accuracy: 0.4997\n",
            "Epoch 86/100\n",
            "17/17 [==============================] - 0s 8ms/step - loss: 0.9386 - accuracy: 0.5868 - val_loss: 1.0088 - val_accuracy: 0.5008\n",
            "Epoch 87/100\n",
            "17/17 [==============================] - 0s 8ms/step - loss: 0.9307 - accuracy: 0.5942 - val_loss: 1.0086 - val_accuracy: 0.4997\n",
            "Epoch 88/100\n",
            "17/17 [==============================] - 0s 7ms/step - loss: 0.9390 - accuracy: 0.5851 - val_loss: 1.0082 - val_accuracy: 0.5008\n",
            "Epoch 89/100\n",
            "17/17 [==============================] - 0s 7ms/step - loss: 0.9360 - accuracy: 0.5895 - val_loss: 1.0080 - val_accuracy: 0.4997\n",
            "Epoch 90/100\n",
            "17/17 [==============================] - 0s 8ms/step - loss: 0.9351 - accuracy: 0.5873 - val_loss: 1.0078 - val_accuracy: 0.5017\n",
            "Epoch 91/100\n",
            "17/17 [==============================] - 0s 7ms/step - loss: 0.9293 - accuracy: 0.5966 - val_loss: 1.0077 - val_accuracy: 0.5019\n",
            "Epoch 92/100\n",
            "17/17 [==============================] - 0s 8ms/step - loss: 0.9383 - accuracy: 0.5823 - val_loss: 1.0072 - val_accuracy: 0.5022\n",
            "Epoch 93/100\n",
            "17/17 [==============================] - 0s 8ms/step - loss: 0.9346 - accuracy: 0.5846 - val_loss: 1.0072 - val_accuracy: 0.5006\n",
            "Epoch 94/100\n",
            "17/17 [==============================] - 0s 8ms/step - loss: 0.9265 - accuracy: 0.5938 - val_loss: 1.0066 - val_accuracy: 0.5011\n",
            "Epoch 95/100\n",
            "17/17 [==============================] - 0s 8ms/step - loss: 0.9322 - accuracy: 0.5922 - val_loss: 1.0066 - val_accuracy: 0.5025\n",
            "Epoch 96/100\n",
            "17/17 [==============================] - 0s 9ms/step - loss: 0.9285 - accuracy: 0.5869 - val_loss: 1.0062 - val_accuracy: 0.5014\n",
            "Epoch 97/100\n",
            "17/17 [==============================] - 0s 7ms/step - loss: 0.9337 - accuracy: 0.5844 - val_loss: 1.0060 - val_accuracy: 0.5022\n",
            "Epoch 98/100\n",
            "17/17 [==============================] - 0s 7ms/step - loss: 0.9352 - accuracy: 0.5842 - val_loss: 1.0059 - val_accuracy: 0.5025\n",
            "Epoch 99/100\n",
            "17/17 [==============================] - 0s 8ms/step - loss: 0.9264 - accuracy: 0.5880 - val_loss: 1.0055 - val_accuracy: 0.5019\n",
            "Epoch 100/100\n",
            "17/17 [==============================] - 0s 8ms/step - loss: 0.9249 - accuracy: 0.5896 - val_loss: 1.0054 - val_accuracy: 0.5036\n"
          ],
          "name": "stdout"
        },
        {
          "output_type": "execute_result",
          "data": {
            "text/plain": [
              "<tensorflow.python.keras.callbacks.History at 0x7f9f901e1e50>"
            ]
          },
          "metadata": {
            "tags": []
          },
          "execution_count": 17
        }
      ]
    },
    {
      "cell_type": "code",
      "metadata": {
        "colab": {
          "base_uri": "https://localhost:8080/"
        },
        "id": "0pOgXfPt4_A-",
        "outputId": "e49b05b2-e925-4463-d905-2b6db4e1cb1a"
      },
      "source": [
        "# Evaluate the model\n",
        "loss, accuracy = model.evaluate(X_test, y_test)"
      ],
      "execution_count": 22,
      "outputs": [
        {
          "output_type": "stream",
          "text": [
            "114/114 [==============================] - 0s 2ms/step - loss: 0.9954 - accuracy: 0.5014\n"
          ],
          "name": "stdout"
        }
      ]
    },
    {
      "cell_type": "code",
      "metadata": {
        "id": "WJ5-1aDro3Ti"
      },
      "source": [
        "#Save the model to use in Kaggle\n",
        "from keras.models import load_model\n",
        "\n",
        "model.save('Laser_NN_model_new.h5')"
      ],
      "execution_count": 19,
      "outputs": []
    },
    {
      "cell_type": "code",
      "metadata": {
        "colab": {
          "base_uri": "https://localhost:8080/"
        },
        "id": "vhAXYfVoXXhR",
        "outputId": "fc9bad34-852c-421d-a37f-181b2b8acdcc"
      },
      "source": [
        "#Predict the test set\n",
        "model.predict(test)"
      ],
      "execution_count": 23,
      "outputs": [
        {
          "output_type": "execute_result",
          "data": {
            "text/plain": [
              "array([[0.38727045, 0.30288032, 0.30984917],\n",
              "       [0.21300131, 0.5258806 , 0.2611181 ],\n",
              "       [0.33013898, 0.42802125, 0.24183981],\n",
              "       ...,\n",
              "       [0.2568004 , 0.4456846 , 0.29751503],\n",
              "       [0.399247  , 0.26443934, 0.33631366],\n",
              "       [0.35334837, 0.27687955, 0.36977208]], dtype=float32)"
            ]
          },
          "metadata": {
            "tags": []
          },
          "execution_count": 23
        }
      ]
    },
    {
      "cell_type": "code",
      "metadata": {
        "id": "Ft527-dqXq3k"
      },
      "source": [
        "result = model.predict(test)"
      ],
      "execution_count": 24,
      "outputs": []
    },
    {
      "cell_type": "code",
      "metadata": {
        "id": "TzKJZEFTaPwg"
      },
      "source": [
        "#Convert the data back into category\n",
        "result_in_cat = np.argmax(result, axis=-1)"
      ],
      "execution_count": null,
      "outputs": []
    },
    {
      "cell_type": "code",
      "metadata": {
        "colab": {
          "base_uri": "https://localhost:8080/"
        },
        "id": "UiybDBjOqy5_",
        "outputId": "a1a264ae-1b1c-4a89-fd86-0782b56892f6"
      },
      "source": [
        "result_in_cat"
      ],
      "execution_count": null,
      "outputs": [
        {
          "output_type": "execute_result",
          "data": {
            "text/plain": [
              "array([0, 1, 1, ..., 1, 2, 0])"
            ]
          },
          "metadata": {
            "tags": []
          },
          "execution_count": 43
        }
      ]
    },
    {
      "cell_type": "code",
      "metadata": {
        "colab": {
          "base_uri": "https://localhost:8080/"
        },
        "id": "I7_H242Oa-Yh",
        "outputId": "3f4775d5-6185-4a56-fce2-96f1f7cf82ca"
      },
      "source": [
        "result_in_cat.shape"
      ],
      "execution_count": null,
      "outputs": [
        {
          "output_type": "execute_result",
          "data": {
            "text/plain": [
              "(5195,)"
            ]
          },
          "metadata": {
            "tags": []
          },
          "execution_count": 41
        }
      ]
    },
    {
      "cell_type": "code",
      "metadata": {
        "colab": {
          "base_uri": "https://localhost:8080/"
        },
        "id": "jOxYmYROctt8",
        "outputId": "b9a32f00-5e40-474f-e473-85b68f48a1b8"
      },
      "source": [
        "#Get the ID from test set\n",
        "raw_test.loc[:,\"id\"]"
      ],
      "execution_count": null,
      "outputs": [
        {
          "output_type": "execute_result",
          "data": {
            "text/plain": [
              "0       c6d58c3f69\n",
              "1       cefcc82292\n",
              "2       e98005252c\n",
              "3       58518c10ba\n",
              "4       c32b0d16df\n",
              "           ...    \n",
              "5190    5f90dd59b0\n",
              "5191    f357a04e86\n",
              "5192    1f0ea92118\n",
              "5193    0407b48afb\n",
              "5194    16c2f2ab89\n",
              "Name: id, Length: 5195, dtype: object"
            ]
          },
          "metadata": {
            "tags": []
          },
          "execution_count": 52
        }
      ]
    },
    {
      "cell_type": "code",
      "metadata": {
        "id": "dsIQuGABqs6b"
      },
      "source": [
        "result_np = np.array(result_in_cat)"
      ],
      "execution_count": null,
      "outputs": []
    },
    {
      "cell_type": "code",
      "metadata": {
        "id": "DRc5ZvyWrGGZ"
      },
      "source": [
        "#Convert the prediction into a Pandas df for easier operation\n",
        "result_df = pd.DataFrame(result_np, columns = ['prediction'])"
      ],
      "execution_count": null,
      "outputs": []
    },
    {
      "cell_type": "code",
      "metadata": {
        "colab": {
          "base_uri": "https://localhost:8080/",
          "height": 423
        },
        "id": "OQCnF4q0rlgV",
        "outputId": "8d23290d-44b1-44ed-b1ba-7d41aa0e8242"
      },
      "source": [
        "result_df"
      ],
      "execution_count": null,
      "outputs": [
        {
          "output_type": "execute_result",
          "data": {
            "text/html": [
              "<div>\n",
              "<style scoped>\n",
              "    .dataframe tbody tr th:only-of-type {\n",
              "        vertical-align: middle;\n",
              "    }\n",
              "\n",
              "    .dataframe tbody tr th {\n",
              "        vertical-align: top;\n",
              "    }\n",
              "\n",
              "    .dataframe thead th {\n",
              "        text-align: right;\n",
              "    }\n",
              "</style>\n",
              "<table border=\"1\" class=\"dataframe\">\n",
              "  <thead>\n",
              "    <tr style=\"text-align: right;\">\n",
              "      <th></th>\n",
              "      <th>prediction</th>\n",
              "    </tr>\n",
              "  </thead>\n",
              "  <tbody>\n",
              "    <tr>\n",
              "      <th>0</th>\n",
              "      <td>0</td>\n",
              "    </tr>\n",
              "    <tr>\n",
              "      <th>1</th>\n",
              "      <td>1</td>\n",
              "    </tr>\n",
              "    <tr>\n",
              "      <th>2</th>\n",
              "      <td>1</td>\n",
              "    </tr>\n",
              "    <tr>\n",
              "      <th>3</th>\n",
              "      <td>0</td>\n",
              "    </tr>\n",
              "    <tr>\n",
              "      <th>4</th>\n",
              "      <td>2</td>\n",
              "    </tr>\n",
              "    <tr>\n",
              "      <th>...</th>\n",
              "      <td>...</td>\n",
              "    </tr>\n",
              "    <tr>\n",
              "      <th>5190</th>\n",
              "      <td>1</td>\n",
              "    </tr>\n",
              "    <tr>\n",
              "      <th>5191</th>\n",
              "      <td>1</td>\n",
              "    </tr>\n",
              "    <tr>\n",
              "      <th>5192</th>\n",
              "      <td>1</td>\n",
              "    </tr>\n",
              "    <tr>\n",
              "      <th>5193</th>\n",
              "      <td>2</td>\n",
              "    </tr>\n",
              "    <tr>\n",
              "      <th>5194</th>\n",
              "      <td>0</td>\n",
              "    </tr>\n",
              "  </tbody>\n",
              "</table>\n",
              "<p>5195 rows × 1 columns</p>\n",
              "</div>"
            ],
            "text/plain": [
              "      prediction\n",
              "0              0\n",
              "1              1\n",
              "2              1\n",
              "3              0\n",
              "4              2\n",
              "...          ...\n",
              "5190           1\n",
              "5191           1\n",
              "5192           1\n",
              "5193           2\n",
              "5194           0\n",
              "\n",
              "[5195 rows x 1 columns]"
            ]
          },
          "metadata": {
            "tags": []
          },
          "execution_count": 49
        }
      ]
    },
    {
      "cell_type": "code",
      "metadata": {
        "id": "Ujl25KxodFBM"
      },
      "source": [
        "#Create final submission file for LASER\n",
        "file_result = pd.concat([raw_test.loc[:,\"id\"],result_df], axis=1)"
      ],
      "execution_count": null,
      "outputs": []
    },
    {
      "cell_type": "code",
      "metadata": {
        "colab": {
          "base_uri": "https://localhost:8080/",
          "height": 423
        },
        "id": "Sk1y94ZYdcUs",
        "outputId": "b7ac0249-6d2c-4280-e674-011a084aa30e"
      },
      "source": [
        "file_result"
      ],
      "execution_count": null,
      "outputs": [
        {
          "output_type": "execute_result",
          "data": {
            "text/html": [
              "<div>\n",
              "<style scoped>\n",
              "    .dataframe tbody tr th:only-of-type {\n",
              "        vertical-align: middle;\n",
              "    }\n",
              "\n",
              "    .dataframe tbody tr th {\n",
              "        vertical-align: top;\n",
              "    }\n",
              "\n",
              "    .dataframe thead th {\n",
              "        text-align: right;\n",
              "    }\n",
              "</style>\n",
              "<table border=\"1\" class=\"dataframe\">\n",
              "  <thead>\n",
              "    <tr style=\"text-align: right;\">\n",
              "      <th></th>\n",
              "      <th>id</th>\n",
              "      <th>prediction</th>\n",
              "    </tr>\n",
              "  </thead>\n",
              "  <tbody>\n",
              "    <tr>\n",
              "      <th>0</th>\n",
              "      <td>c6d58c3f69</td>\n",
              "      <td>0</td>\n",
              "    </tr>\n",
              "    <tr>\n",
              "      <th>1</th>\n",
              "      <td>cefcc82292</td>\n",
              "      <td>1</td>\n",
              "    </tr>\n",
              "    <tr>\n",
              "      <th>2</th>\n",
              "      <td>e98005252c</td>\n",
              "      <td>1</td>\n",
              "    </tr>\n",
              "    <tr>\n",
              "      <th>3</th>\n",
              "      <td>58518c10ba</td>\n",
              "      <td>0</td>\n",
              "    </tr>\n",
              "    <tr>\n",
              "      <th>4</th>\n",
              "      <td>c32b0d16df</td>\n",
              "      <td>2</td>\n",
              "    </tr>\n",
              "    <tr>\n",
              "      <th>...</th>\n",
              "      <td>...</td>\n",
              "      <td>...</td>\n",
              "    </tr>\n",
              "    <tr>\n",
              "      <th>5190</th>\n",
              "      <td>5f90dd59b0</td>\n",
              "      <td>1</td>\n",
              "    </tr>\n",
              "    <tr>\n",
              "      <th>5191</th>\n",
              "      <td>f357a04e86</td>\n",
              "      <td>1</td>\n",
              "    </tr>\n",
              "    <tr>\n",
              "      <th>5192</th>\n",
              "      <td>1f0ea92118</td>\n",
              "      <td>1</td>\n",
              "    </tr>\n",
              "    <tr>\n",
              "      <th>5193</th>\n",
              "      <td>0407b48afb</td>\n",
              "      <td>2</td>\n",
              "    </tr>\n",
              "    <tr>\n",
              "      <th>5194</th>\n",
              "      <td>16c2f2ab89</td>\n",
              "      <td>0</td>\n",
              "    </tr>\n",
              "  </tbody>\n",
              "</table>\n",
              "<p>5195 rows × 2 columns</p>\n",
              "</div>"
            ],
            "text/plain": [
              "              id  prediction\n",
              "0     c6d58c3f69           0\n",
              "1     cefcc82292           1\n",
              "2     e98005252c           1\n",
              "3     58518c10ba           0\n",
              "4     c32b0d16df           2\n",
              "...          ...         ...\n",
              "5190  5f90dd59b0           1\n",
              "5191  f357a04e86           1\n",
              "5192  1f0ea92118           1\n",
              "5193  0407b48afb           2\n",
              "5194  16c2f2ab89           0\n",
              "\n",
              "[5195 rows x 2 columns]"
            ]
          },
          "metadata": {
            "tags": []
          },
          "execution_count": 54
        }
      ]
    },
    {
      "cell_type": "code",
      "metadata": {
        "colab": {
          "base_uri": "https://localhost:8080/",
          "height": 17
        },
        "id": "RFiWd-xBsRu1",
        "outputId": "f35fa955-751c-4634-ba34-6f26f96afcc3"
      },
      "source": [
        "file_result.to_csv('submission.csv')\n",
        "files.download('submission.csv')"
      ],
      "execution_count": null,
      "outputs": [
        {
          "output_type": "display_data",
          "data": {
            "application/javascript": [
              "\n",
              "    async function download(id, filename, size) {\n",
              "      if (!google.colab.kernel.accessAllowed) {\n",
              "        return;\n",
              "      }\n",
              "      const div = document.createElement('div');\n",
              "      const label = document.createElement('label');\n",
              "      label.textContent = `Downloading \"${filename}\": `;\n",
              "      div.appendChild(label);\n",
              "      const progress = document.createElement('progress');\n",
              "      progress.max = size;\n",
              "      div.appendChild(progress);\n",
              "      document.body.appendChild(div);\n",
              "\n",
              "      const buffers = [];\n",
              "      let downloaded = 0;\n",
              "\n",
              "      const channel = await google.colab.kernel.comms.open(id);\n",
              "      // Send a message to notify the kernel that we're ready.\n",
              "      channel.send({})\n",
              "\n",
              "      for await (const message of channel.messages) {\n",
              "        // Send a message to notify the kernel that we're ready.\n",
              "        channel.send({})\n",
              "        if (message.buffers) {\n",
              "          for (const buffer of message.buffers) {\n",
              "            buffers.push(buffer);\n",
              "            downloaded += buffer.byteLength;\n",
              "            progress.value = downloaded;\n",
              "          }\n",
              "        }\n",
              "      }\n",
              "      const blob = new Blob(buffers, {type: 'application/binary'});\n",
              "      const a = document.createElement('a');\n",
              "      a.href = window.URL.createObjectURL(blob);\n",
              "      a.download = filename;\n",
              "      div.appendChild(a);\n",
              "      a.click();\n",
              "      div.remove();\n",
              "    }\n",
              "  "
            ],
            "text/plain": [
              "<IPython.core.display.Javascript object>"
            ]
          },
          "metadata": {
            "tags": []
          }
        },
        {
          "output_type": "display_data",
          "data": {
            "application/javascript": [
              "download(\"download_e27920d2-99da-4f51-9457-054806c62956\", \"submission.csv\", 92415)"
            ],
            "text/plain": [
              "<IPython.core.display.Javascript object>"
            ]
          },
          "metadata": {
            "tags": []
          }
        }
      ]
    }
  ]
}